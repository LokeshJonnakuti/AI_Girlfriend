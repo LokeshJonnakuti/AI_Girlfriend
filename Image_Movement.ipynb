{
 "cells": [
  {
   "cell_type": "code",
   "execution_count": null,
   "id": "ef67e7fb-530f-4d67-8bdf-953c281206f2",
   "metadata": {},
   "outputs": [],
   "source": [
    "# Possible sources:\n",
    "\"\"\"\n",
    "https://github.com/topics/vtuber\n",
    "1. https://github.com/1996scarlet/OpenVtuber\n",
    "2. https://github.com/1996scarlet/faster-mobile-retinaface \n",
    "   (faster version of 1)\n",
    "3. https://github.com/pkhungurn/talking-head-anime-demo \n",
    "   (may be slow and bg needs to be removed)\n",
    "\"\"\""
   ]
  }
 ],
 "metadata": {
  "kernelspec": {
   "display_name": "Python 3 (ipykernel)",
   "language": "python",
   "name": "python3"
  },
  "language_info": {
   "codemirror_mode": {
    "name": "ipython",
    "version": 3
   },
   "file_extension": ".py",
   "mimetype": "text/x-python",
   "name": "python",
   "nbconvert_exporter": "python",
   "pygments_lexer": "ipython3",
   "version": "3.9.15"
  }
 },
 "nbformat": 4,
 "nbformat_minor": 5
}
