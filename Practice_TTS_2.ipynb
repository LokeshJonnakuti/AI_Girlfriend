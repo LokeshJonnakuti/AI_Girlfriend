{
 "cells": [
  {
   "cell_type": "code",
   "execution_count": 1,
   "id": "7655d10f-968d-4087-ae96-0e9b072ef2fb",
   "metadata": {
    "scrolled": true,
    "tags": []
   },
   "outputs": [
    {
     "name": "stdout",
     "output_type": "stream",
     "text": [
      "^C\n",
      "Requirement already satisfied: TTS in c:\\users\\gabri\\anaconda3\\lib\\site-packages (0.10.2)\n",
      "Requirement already satisfied: jieba in c:\\users\\gabri\\anaconda3\\lib\\site-packages (from TTS) (0.42.1)\n",
      "Requirement already satisfied: trainer==0.0.20 in c:\\users\\gabri\\anaconda3\\lib\\site-packages (from TTS) (0.0.20)\n",
      "Requirement already satisfied: pypinyin in c:\\users\\gabri\\anaconda3\\lib\\site-packages (from TTS) (0.47.1)\n",
      "Requirement already satisfied: matplotlib in c:\\users\\gabri\\anaconda3\\lib\\site-packages (from TTS) (3.6.2)\n",
      "Requirement already satisfied: mecab-python3==1.0.5 in c:\\users\\gabri\\anaconda3\\lib\\site-packages (from TTS) (1.0.5)\n",
      "Requirement already satisfied: flask in c:\\users\\gabri\\anaconda3\\lib\\site-packages (from TTS) (2.2.2)\n",
      "Requirement already satisfied: anyascii in c:\\users\\gabri\\anaconda3\\lib\\site-packages (from TTS) (0.3.1)\n",
      "Requirement already satisfied: numba==0.55.1 in c:\\users\\gabri\\anaconda3\\lib\\site-packages (from TTS) (0.55.1)\n",
      "Requirement already satisfied: torch>=1.7 in c:\\users\\gabri\\anaconda3\\lib\\site-packages (from TTS) (1.13.1+cu116)\n",
      "Requirement already satisfied: fsspec>=2021.04.0 in c:\\users\\gabri\\anaconda3\\lib\\site-packages (from TTS) (2022.10.0)\n",
      "Requirement already satisfied: unidic-lite==1.0.8 in c:\\users\\gabri\\anaconda3\\lib\\site-packages (from TTS) (1.0.8)\n",
      "Requirement already satisfied: torchaudio in c:\\users\\gabri\\anaconda3\\lib\\site-packages (from TTS) (0.13.1+cu116)\n",
      "Requirement already satisfied: gruut[de]==2.2.3 in c:\\users\\gabri\\anaconda3\\lib\\site-packages (from TTS) (2.2.3)\n",
      "Requirement already satisfied: pandas in c:\\users\\gabri\\anaconda3\\lib\\site-packages (from TTS) (1.5.1)\n",
      "Requirement already satisfied: inflect==5.6.0 in c:\\users\\gabri\\anaconda3\\lib\\site-packages (from TTS) (5.6.0)\n",
      "Requirement already satisfied: cython==0.29.28 in c:\\users\\gabri\\anaconda3\\lib\\site-packages (from TTS) (0.29.28)\n",
      "Requirement already satisfied: g2pkk>=0.1.1 in c:\\users\\gabri\\anaconda3\\lib\\site-packages (from TTS) (0.1.2)\n",
      "Requirement already satisfied: nltk in c:\\users\\gabri\\anaconda3\\lib\\site-packages (from TTS) (3.7)\n",
      "Requirement already satisfied: pysbd in c:\\users\\gabri\\anaconda3\\lib\\site-packages (from TTS) (0.3.4)\n",
      "Requirement already satisfied: numpy==1.21.6 in c:\\users\\gabri\\anaconda3\\lib\\site-packages (from TTS) (1.21.6)\n",
      "Requirement already satisfied: librosa==0.8.0 in c:\\users\\gabri\\anaconda3\\lib\\site-packages (from TTS) (0.8.0)\n",
      "Requirement already satisfied: coqpit>=0.0.16 in c:\\users\\gabri\\anaconda3\\lib\\site-packages (from TTS) (0.0.17)\n",
      "Requirement already satisfied: tqdm in c:\\users\\gabri\\appdata\\roaming\\python\\python39\\site-packages (from TTS) (4.64.1)\n",
      "Requirement already satisfied: pyyaml in c:\\users\\gabri\\appdata\\roaming\\python\\python39\\site-packages (from TTS) (6.0)\n",
      "Requirement already satisfied: scipy>=1.4.0 in c:\\users\\gabri\\anaconda3\\lib\\site-packages (from TTS) (1.10.0)\n",
      "Requirement already satisfied: soundfile in c:\\users\\gabri\\anaconda3\\lib\\site-packages (from TTS) (0.11.0)\n",
      "Requirement already satisfied: jamo in c:\\users\\gabri\\anaconda3\\lib\\site-packages (from TTS) (0.4.1)\n",
      "Requirement already satisfied: umap-learn==0.5.1 in c:\\users\\gabri\\anaconda3\\lib\\site-packages (from TTS) (0.5.1)\n",
      "Requirement already satisfied: gruut-lang-en~=2.0.0 in c:\\users\\gabri\\anaconda3\\lib\\site-packages (from gruut[de]==2.2.3->TTS) (2.0.0)\n",
      "Requirement already satisfied: python-crfsuite~=0.9.7 in c:\\users\\gabri\\anaconda3\\lib\\site-packages (from gruut[de]==2.2.3->TTS) (0.9.8)\n",
      "Requirement already satisfied: networkx<3.0.0,>=2.5.0 in c:\\users\\gabri\\anaconda3\\lib\\site-packages (from gruut[de]==2.2.3->TTS) (2.8.6)\n",
      "Requirement already satisfied: gruut-ipa<1.0,>=0.12.0 in c:\\users\\gabri\\anaconda3\\lib\\site-packages (from gruut[de]==2.2.3->TTS) (0.13.0)\n",
      "Requirement already satisfied: jsonlines~=1.2.0 in c:\\users\\gabri\\anaconda3\\lib\\site-packages (from gruut[de]==2.2.3->TTS) (1.2.0)\n",
      "Requirement already satisfied: Babel<3.0.0,>=2.8.0 in c:\\users\\gabri\\anaconda3\\lib\\site-packages (from gruut[de]==2.2.3->TTS) (2.11.0)\n",
      "Requirement already satisfied: num2words<1.0.0,>=0.5.10 in c:\\users\\gabri\\anaconda3\\lib\\site-packages (from gruut[de]==2.2.3->TTS) (0.5.12)\n",
      "Requirement already satisfied: dateparser~=1.1.0 in c:\\users\\gabri\\anaconda3\\lib\\site-packages (from gruut[de]==2.2.3->TTS) (1.1.6)\n",
      "Requirement already satisfied: gruut-lang-de~=2.0.0 in c:\\users\\gabri\\anaconda3\\lib\\site-packages (from gruut[de]==2.2.3->TTS) (2.0.0)\n",
      "Requirement already satisfied: joblib>=0.14 in c:\\users\\gabri\\anaconda3\\lib\\site-packages (from librosa==0.8.0->TTS) (1.1.0)\n",
      "Requirement already satisfied: decorator>=3.0.0 in c:\\users\\gabri\\anaconda3\\lib\\site-packages (from librosa==0.8.0->TTS) (5.1.1)\n",
      "Requirement already satisfied: resampy>=0.2.2 in c:\\users\\gabri\\anaconda3\\lib\\site-packages (from librosa==0.8.0->TTS) (0.4.2)\n",
      "Requirement already satisfied: pooch>=1.0 in c:\\users\\gabri\\anaconda3\\lib\\site-packages (from librosa==0.8.0->TTS) (1.6.0)\n",
      "Requirement already satisfied: scikit-learn!=0.19.0,>=0.14.0 in c:\\users\\gabri\\anaconda3\\lib\\site-packages (from librosa==0.8.0->TTS) (1.1.2)\n",
      "Requirement already satisfied: audioread>=2.0.0 in c:\\users\\gabri\\anaconda3\\lib\\site-packages (from librosa==0.8.0->TTS) (3.0.0)\n",
      "Requirement already satisfied: llvmlite<0.39,>=0.38.0rc1 in c:\\users\\gabri\\anaconda3\\lib\\site-packages (from numba==0.55.1->TTS) (0.38.1)\n",
      "Requirement already satisfied: setuptools in c:\\users\\gabri\\anaconda3\\lib\\site-packages (from numba==0.55.1->TTS) (65.6.3)\n",
      "Requirement already satisfied: protobuf<3.20,>=3.9.2 in c:\\users\\gabri\\anaconda3\\lib\\site-packages (from trainer==0.0.20->TTS) (3.19.6)\n",
      "Requirement already satisfied: psutil in c:\\users\\gabri\\anaconda3\\lib\\site-packages (from trainer==0.0.20->TTS) (5.9.0)\n",
      "Requirement already satisfied: tensorboardX in c:\\users\\gabri\\anaconda3\\lib\\site-packages (from trainer==0.0.20->TTS) (2.5.1)\n",
      "Requirement already satisfied: pynndescent>=0.5 in c:\\users\\gabri\\anaconda3\\lib\\site-packages (from umap-learn==0.5.1->TTS) (0.5.8)\n",
      "Requirement already satisfied: cffi>=1.0 in c:\\users\\gabri\\anaconda3\\lib\\site-packages (from soundfile->TTS) (1.15.1)\n",
      "Requirement already satisfied: typing-extensions in c:\\users\\gabri\\appdata\\roaming\\python\\python39\\site-packages (from torch>=1.7->TTS) (4.4.0)\n",
      "Requirement already satisfied: click>=8.0 in c:\\users\\gabri\\anaconda3\\lib\\site-packages (from flask->TTS) (8.1.3)\n",
      "Requirement already satisfied: Werkzeug>=2.2.2 in c:\\users\\gabri\\anaconda3\\lib\\site-packages (from flask->TTS) (2.2.2)\n",
      "Requirement already satisfied: importlib-metadata>=3.6.0 in c:\\users\\gabri\\anaconda3\\lib\\site-packages (from flask->TTS) (6.0.0)\n",
      "Requirement already satisfied: Jinja2>=3.0 in c:\\users\\gabri\\anaconda3\\lib\\site-packages (from flask->TTS) (3.1.2)\n",
      "Requirement already satisfied: itsdangerous>=2.0 in c:\\users\\gabri\\anaconda3\\lib\\site-packages (from flask->TTS) (2.1.2)\n",
      "Requirement already satisfied: kiwisolver>=1.0.1 in c:\\users\\gabri\\anaconda3\\lib\\site-packages (from matplotlib->TTS) (1.4.4)\n",
      "Requirement already satisfied: contourpy>=1.0.1 in c:\\users\\gabri\\anaconda3\\lib\\site-packages (from matplotlib->TTS) (1.0.6)\n",
      "Requirement already satisfied: packaging>=20.0 in c:\\users\\gabri\\appdata\\roaming\\python\\python39\\site-packages (from matplotlib->TTS) (23.0)\n",
      "Requirement already satisfied: cycler>=0.10 in c:\\users\\gabri\\anaconda3\\lib\\site-packages (from matplotlib->TTS) (0.11.0)\n",
      "Requirement already satisfied: pyparsing>=2.2.1 in c:\\users\\gabri\\anaconda3\\lib\\site-packages (from matplotlib->TTS) (3.0.9)\n",
      "Requirement already satisfied: fonttools>=4.22.0 in c:\\users\\gabri\\anaconda3\\lib\\site-packages (from matplotlib->TTS) (4.37.1)\n",
      "Requirement already satisfied: pillow>=6.2.0 in c:\\users\\gabri\\anaconda3\\lib\\site-packages (from matplotlib->TTS) (9.4.0)\n",
      "Requirement already satisfied: python-dateutil>=2.7 in c:\\users\\gabri\\anaconda3\\lib\\site-packages (from matplotlib->TTS) (2.8.2)\n",
      "Requirement already satisfied: regex>=2021.8.3 in c:\\users\\gabri\\appdata\\roaming\\python\\python39\\site-packages (from nltk->TTS) (2022.10.31)\n",
      "Requirement already satisfied: pytz>=2020.1 in c:\\users\\gabri\\anaconda3\\lib\\site-packages (from pandas->TTS) (2022.7)\n",
      "Requirement already satisfied: colorama in c:\\users\\gabri\\appdata\\roaming\\python\\python39\\site-packages (from tqdm->TTS) (0.4.6)\n",
      "Requirement already satisfied: pycparser in c:\\users\\gabri\\anaconda3\\lib\\site-packages (from cffi>=1.0->soundfile->TTS) (2.21)\n",
      "Requirement already satisfied: tzlocal in c:\\users\\gabri\\anaconda3\\lib\\site-packages (from dateparser~=1.1.0->gruut[de]==2.2.3->TTS) (4.2)\n",
      "Requirement already satisfied: zipp>=0.5 in c:\\users\\gabri\\anaconda3\\lib\\site-packages (from importlib-metadata>=3.6.0->flask->TTS) (3.11.0)\n",
      "Requirement already satisfied: MarkupSafe>=2.0 in c:\\users\\gabri\\anaconda3\\lib\\site-packages (from Jinja2>=3.0->flask->TTS) (2.1.1)\n",
      "Requirement already satisfied: six in c:\\users\\gabri\\anaconda3\\lib\\site-packages (from jsonlines~=1.2.0->gruut[de]==2.2.3->TTS) (1.16.0)\n",
      "Requirement already satisfied: docopt>=0.6.2 in c:\\users\\gabri\\anaconda3\\lib\\site-packages (from num2words<1.0.0,>=0.5.10->gruut[de]==2.2.3->TTS) (0.6.2)\n",
      "Requirement already satisfied: requests>=2.19.0 in c:\\users\\gabri\\appdata\\roaming\\python\\python39\\site-packages (from pooch>=1.0->librosa==0.8.0->TTS) (2.28.2)\n",
      "Requirement already satisfied: appdirs>=1.3.0 in c:\\users\\gabri\\anaconda3\\lib\\site-packages (from pooch>=1.0->librosa==0.8.0->TTS) (1.4.4)\n",
      "Requirement already satisfied: threadpoolctl>=2.0.0 in c:\\users\\gabri\\anaconda3\\lib\\site-packages (from scikit-learn!=0.19.0,>=0.14.0->librosa==0.8.0->TTS) (3.1.0)\n",
      "Requirement already satisfied: idna<4,>=2.5 in c:\\users\\gabri\\appdata\\roaming\\python\\python39\\site-packages (from requests>=2.19.0->pooch>=1.0->librosa==0.8.0->TTS) (3.4)\n",
      "Requirement already satisfied: charset-normalizer<4,>=2 in c:\\users\\gabri\\appdata\\roaming\\python\\python39\\site-packages (from requests>=2.19.0->pooch>=1.0->librosa==0.8.0->TTS) (3.0.1)\n",
      "Requirement already satisfied: urllib3<1.27,>=1.21.1 in c:\\users\\gabri\\appdata\\roaming\\python\\python39\\site-packages (from requests>=2.19.0->pooch>=1.0->librosa==0.8.0->TTS) (1.26.14)\n",
      "Requirement already satisfied: certifi>=2017.4.17 in c:\\users\\gabri\\appdata\\roaming\\python\\python39\\site-packages (from requests>=2.19.0->pooch>=1.0->librosa==0.8.0->TTS) (2022.12.7)\n",
      "Requirement already satisfied: tzdata in c:\\users\\gabri\\anaconda3\\lib\\site-packages (from tzlocal->dateparser~=1.1.0->gruut[de]==2.2.3->TTS) (2022.7)\n",
      "Requirement already satisfied: pytz-deprecation-shim in c:\\users\\gabri\\anaconda3\\lib\\site-packages (from tzlocal->dateparser~=1.1.0->gruut[de]==2.2.3->TTS) (0.1.0.post0)\n",
      "Requirement already satisfied: speake3 in c:\\users\\gabri\\anaconda3\\lib\\site-packages (0.3)\n",
      "Requirement already satisfied: py-espeak-ng in c:\\users\\gabri\\anaconda3\\lib\\site-packages (0.1.8)\n"
     ]
    }
   ],
   "source": [
    "# Installations\n",
    "!pip install TTS\n",
    "!pip install speake3\n",
    "!pip install py-espeak-ng"
   ]
  },
  {
   "cell_type": "code",
   "execution_count": 2,
   "id": "be4746a0-644c-450e-a138-80ab810c3de6",
   "metadata": {},
   "outputs": [
    {
     "name": "stderr",
     "output_type": "stream",
     "text": [
      "C:\\Users\\gabri\\anaconda3\\lib\\site-packages\\numpy\\_distributor_init.py:30: UserWarning: loaded more than 1 DLL from .libs:\n",
      "C:\\Users\\gabri\\anaconda3\\lib\\site-packages\\numpy\\.libs\\libopenblas.FB5AE2TYXYH2IJRDKGDGQ3XBKLKTF43H.gfortran-win_amd64.dll\n",
      "C:\\Users\\gabri\\anaconda3\\lib\\site-packages\\numpy\\.libs\\libopenblas.XWYDX2IKJW2NMTWSFYNGFUWKQU3LYTCZ.gfortran-win_amd64.dll\n",
      "  warnings.warn(\"loaded more than 1 DLL from .libs:\"\n"
     ]
    }
   ],
   "source": [
    "# Imports\n",
    "from TTS.api import TTS"
   ]
  },
  {
   "cell_type": "code",
   "execution_count": 3,
   "id": "89a62b55-20d5-4bd6-870a-e2f8ed8b4417",
   "metadata": {
    "scrolled": true,
    "tags": []
   },
   "outputs": [
    {
     "name": "stdout",
     "output_type": "stream",
     "text": [
      "0 tts_models/multilingual/multi-dataset/your_tts\n",
      "1 tts_models/bg/cv/vits\n",
      "2 tts_models/cs/cv/vits\n",
      "3 tts_models/da/cv/vits\n",
      "4 tts_models/et/cv/vits\n",
      "5 tts_models/ga/cv/vits\n",
      "6 tts_models/en/ek1/tacotron2\n",
      "7 tts_models/en/ljspeech/tacotron2-DDC\n",
      "8 tts_models/en/ljspeech/tacotron2-DDC_ph\n",
      "9 tts_models/en/ljspeech/glow-tts\n",
      "10 tts_models/en/ljspeech/speedy-speech\n",
      "11 tts_models/en/ljspeech/tacotron2-DCA\n",
      "12 tts_models/en/ljspeech/vits\n",
      "13 tts_models/en/ljspeech/vits--neon\n",
      "14 tts_models/en/ljspeech/fast_pitch\n",
      "15 tts_models/en/ljspeech/overflow\n",
      "16 tts_models/en/vctk/vits\n",
      "17 tts_models/en/vctk/fast_pitch\n",
      "18 tts_models/en/sam/tacotron-DDC\n",
      "19 tts_models/en/blizzard2013/capacitron-t2-c50\n",
      "20 tts_models/en/blizzard2013/capacitron-t2-c150_v2\n",
      "21 tts_models/es/mai/tacotron2-DDC\n",
      "22 tts_models/es/css10/vits\n",
      "23 tts_models/fr/mai/tacotron2-DDC\n",
      "24 tts_models/fr/css10/vits\n",
      "25 tts_models/uk/mai/glow-tts\n",
      "26 tts_models/uk/mai/vits\n",
      "27 tts_models/zh-CN/baker/tacotron2-DDC-GST\n",
      "28 tts_models/nl/mai/tacotron2-DDC\n",
      "29 tts_models/nl/css10/vits\n",
      "30 tts_models/de/thorsten/tacotron2-DCA\n",
      "31 tts_models/de/thorsten/vits\n",
      "32 tts_models/de/thorsten/tacotron2-DDC\n",
      "33 tts_models/de/css10/vits-neon\n",
      "34 tts_models/ja/kokoro/tacotron2-DDC\n",
      "35 tts_models/tr/common-voice/glow-tts\n",
      "36 tts_models/it/mai_female/glow-tts\n",
      "37 tts_models/it/mai_female/vits\n",
      "38 tts_models/it/mai_male/glow-tts\n",
      "39 tts_models/it/mai_male/vits\n",
      "40 tts_models/ewe/openbible/vits\n",
      "41 tts_models/hau/openbible/vits\n",
      "42 tts_models/lin/openbible/vits\n",
      "43 tts_models/tw_akuapem/openbible/vits\n",
      "44 tts_models/tw_asante/openbible/vits\n",
      "45 tts_models/yor/openbible/vits\n",
      "46 tts_models/hu/css10/vits\n",
      "47 tts_models/el/cv/vits\n",
      "48 tts_models/fi/css10/vits\n",
      "49 tts_models/hr/cv/vits\n",
      "50 tts_models/lt/cv/vits\n",
      "51 tts_models/lv/cv/vits\n",
      "52 tts_models/mt/cv/vits\n",
      "53 tts_models/pl/mai_female/vits\n",
      "54 tts_models/pt/cv/vits\n",
      "55 tts_models/ro/cv/vits\n",
      "56 tts_models/sk/cv/vits\n",
      "57 tts_models/sl/cv/vits\n",
      "58 tts_models/sv/cv/vits\n",
      "59 tts_models/ca/custom/vits\n",
      "60 tts_models/fa/custom/glow-tts\n"
     ]
    }
   ],
   "source": [
    "# What models are available?\n",
    "for i, m in enumerate(TTS.list_models()):\n",
    "    print(i, m)"
   ]
  },
  {
   "cell_type": "code",
   "execution_count": 8,
   "id": "3c2506be-17f6-49e0-8534-46f6b3b89a28",
   "metadata": {},
   "outputs": [],
   "source": [
    "# Select a model to use\n",
    "model_name = TTS.list_models()[9]"
   ]
  },
  {
   "cell_type": "code",
   "execution_count": 9,
   "id": "a7a4d2c2-f3e4-412a-9981-e03c04ccb9a9",
   "metadata": {
    "scrolled": true,
    "tags": []
   },
   "outputs": [
    {
     "name": "stdout",
     "output_type": "stream",
     "text": [
      " > Downloading model to C:\\Users\\gabri\\AppData\\Local\\tts\\tts_models--en--ljspeech--glow-tts\n"
     ]
    },
    {
     "name": "stderr",
     "output_type": "stream",
     "text": [
      "100%|██████████████████████████████████████████████████████████████████████████████| 344M/344M [00:34<00:00, 10.1MiB/s]\n"
     ]
    },
    {
     "name": "stdout",
     "output_type": "stream",
     "text": [
      " > Model's license - MPL\n",
      " > Check https://www.mozilla.org/en-US/MPL/2.0/ for more info.\n",
      " > Downloading model to C:\\Users\\gabri\\AppData\\Local\\tts\\vocoder_models--en--ljspeech--multiband-melgan\n"
     ]
    },
    {
     "name": "stderr",
     "output_type": "stream",
     "text": [
      "100%|████████████████████████████████████████████████████████████████████████████| 82.8M/82.8M [00:03<00:00, 27.2MiB/s]\n"
     ]
    },
    {
     "name": "stdout",
     "output_type": "stream",
     "text": [
      " > Model's license - MPL\n",
      " > Check https://www.mozilla.org/en-US/MPL/2.0/ for more info.\n",
      " > Using model: glow_tts\n",
      " > Setting up Audio Processor...\n",
      " | > sample_rate:22050\n",
      " | > resample:False\n",
      " | > num_mels:80\n",
      " | > log_func:np.log10\n",
      " | > min_level_db:-100\n",
      " | > frame_shift_ms:None\n",
      " | > frame_length_ms:None\n",
      " | > ref_level_db:0\n",
      " | > fft_size:1024\n",
      " | > power:1.1\n",
      " | > preemphasis:0.0\n",
      " | > griffin_lim_iters:60\n",
      " | > signal_norm:False\n",
      " | > symmetric_norm:True\n",
      " | > mel_fmin:50.0\n",
      " | > mel_fmax:7600.0\n",
      " | > pitch_fmin:1.0\n",
      " | > pitch_fmax:640.0\n",
      " | > spec_gain:1.0\n",
      " | > stft_pad_mode:reflect\n",
      " | > max_norm:1.0\n",
      " | > clip_norm:True\n",
      " | > do_trim_silence:True\n",
      " | > trim_db:60\n",
      " | > do_sound_norm:False\n",
      " | > do_amp_to_db_linear:True\n",
      " | > do_amp_to_db_mel:True\n",
      " | > do_rms_norm:False\n",
      " | > db_level:None\n",
      " | > stats_path:None\n",
      " | > base:10\n",
      " | > hop_length:256\n",
      " | > win_length:1024\n",
      " > Vocoder Model: multiband_melgan\n",
      " > Setting up Audio Processor...\n",
      " | > sample_rate:22050\n",
      " | > resample:False\n",
      " | > num_mels:80\n",
      " | > log_func:np.log10\n",
      " | > min_level_db:-100\n",
      " | > frame_shift_ms:None\n",
      " | > frame_length_ms:None\n",
      " | > ref_level_db:0\n",
      " | > fft_size:1024\n",
      " | > power:1.5\n",
      " | > preemphasis:0.0\n",
      " | > griffin_lim_iters:60\n",
      " | > signal_norm:True\n",
      " | > symmetric_norm:True\n",
      " | > mel_fmin:50.0\n",
      " | > mel_fmax:7600.0\n",
      " | > pitch_fmin:0.0\n",
      " | > pitch_fmax:640.0\n",
      " | > spec_gain:1.0\n",
      " | > stft_pad_mode:reflect\n",
      " | > max_norm:4.0\n",
      " | > clip_norm:True\n",
      " | > do_trim_silence:True\n",
      " | > trim_db:60\n",
      " | > do_sound_norm:False\n",
      " | > do_amp_to_db_linear:True\n",
      " | > do_amp_to_db_mel:True\n",
      " | > do_rms_norm:False\n",
      " | > db_level:None\n",
      " | > stats_path:C:\\Users\\gabri\\AppData\\Local\\tts\\vocoder_models--en--ljspeech--multiband-melgan\\scale_stats.npy\n",
      " | > base:10\n",
      " | > hop_length:256\n",
      " | > win_length:1024\n",
      " > Generator Model: multiband_melgan_generator\n",
      " > Discriminator Model: melgan_multiscale_discriminator\n"
     ]
    }
   ],
   "source": [
    "# Init TTS\n",
    "tts = TTS(model_name, gpu=True)"
   ]
  },
  {
   "cell_type": "code",
   "execution_count": 45,
   "id": "3b19ea53-8cd1-4ea8-a55b-2f6d8b36d9df",
   "metadata": {
    "scrolled": true,
    "tags": []
   },
   "outputs": [
    {
     "name": "stdout",
     "output_type": "stream",
     "text": [
      "0 female-en-5\n",
      "1 female-en-5\n",
      "\n",
      "2 female-pt-4\n",
      "\n",
      "3 male-en-2\n",
      "4 male-en-2\n",
      "\n",
      "5 male-pt-3\n",
      "\n"
     ]
    }
   ],
   "source": [
    "# What speakers are there?\n",
    "for i, speaker in enumerate(tts.speakers):\n",
    "    print(i, speaker)"
   ]
  },
  {
   "cell_type": "code",
   "execution_count": 46,
   "id": "f6237daa-0e6b-47e9-8273-661389aff34a",
   "metadata": {},
   "outputs": [
    {
     "name": "stdout",
     "output_type": "stream",
     "text": [
      "0 en\n",
      "1 fr-fr\n",
      "2 pt-br\n"
     ]
    }
   ],
   "source": [
    "# What languages are there?\n",
    "for i, lang in enumerate(tts.languages):\n",
    "    print(i, lang)"
   ]
  },
  {
   "cell_type": "code",
   "execution_count": 31,
   "id": "ecd1e6b7-28e6-426d-988b-426f6308e1a6",
   "metadata": {},
   "outputs": [
    {
     "name": "stdout",
     "output_type": "stream",
     "text": [
      " > Text splitted to sentences.\n",
      "['This is a test!', 'This is also a test!!']\n",
      " > Processing time: 0.7365109920501709\n",
      " > Real-time factor: 0.09712958956164036\n"
     ]
    }
   ],
   "source": [
    "# Run TTS\n",
    "# ❗ Since this model is multi-speaker and multi-lingual, we must set the target speaker and the language\n",
    "# Text to speech with a numpy output\n",
    "wav = tts.tts(\"This is a test! This is also a test!!\", speaker=tts.speakers[0], language=tts.languages[0])"
   ]
  },
  {
   "cell_type": "code",
   "execution_count": 11,
   "id": "ade0312f-0d4e-457f-87e2-3d7eadce032f",
   "metadata": {},
   "outputs": [
    {
     "name": "stdout",
     "output_type": "stream",
     "text": [
      " > Text splitted to sentences.\n",
      "['You are my female waifu girlfriend who loves me!']\n",
      " > Processing time: 0.16658329963684082\n",
      " > Real-time factor: 0.0455410850648723\n"
     ]
    }
   ],
   "source": [
    "# Save the TTS to a file\n",
    "# Text to speech to a file\n",
    "# tts.tts_to_file(text=\"You are my female waifu girlfriend who loves me!\", speaker=tts.speakers[2], language=tts.languages[0], file_path=\"output.wav\")\n",
    "tts.tts_to_file(text=\"You are my female waifu girlfriend who loves me!\", file_path=\"output.wav\")"
   ]
  },
  {
   "cell_type": "code",
   "execution_count": null,
   "id": "acc4e5f4-1352-4efb-afff-17c242dc2c5b",
   "metadata": {},
   "outputs": [],
   "source": []
  }
 ],
 "metadata": {
  "kernelspec": {
   "display_name": "Python 3 (ipykernel)",
   "language": "python",
   "name": "python3"
  },
  "language_info": {
   "codemirror_mode": {
    "name": "ipython",
    "version": 3
   },
   "file_extension": ".py",
   "mimetype": "text/x-python",
   "name": "python",
   "nbconvert_exporter": "python",
   "pygments_lexer": "ipython3",
   "version": "3.9.15"
  }
 },
 "nbformat": 4,
 "nbformat_minor": 5
}
