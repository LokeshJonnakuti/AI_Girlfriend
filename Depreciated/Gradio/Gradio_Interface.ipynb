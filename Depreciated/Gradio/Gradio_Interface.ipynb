{
 "cells": [
  {
   "cell_type": "code",
   "execution_count": 1,
   "id": "3f8cd6ae-0b8d-4813-ae74-9b069d0b6ecf",
   "metadata": {
    "scrolled": true,
    "tags": []
   },
   "outputs": [
    {
     "name": "stdout",
     "output_type": "stream",
     "text": [
      "Requirement already satisfied: gradio in c:\\users\\gabri\\anaconda3\\lib\\site-packages (3.16.2)\n",
      "Requirement already satisfied: fastapi in c:\\users\\gabri\\anaconda3\\lib\\site-packages (from gradio) (0.89.1)\n",
      "Requirement already satisfied: uvicorn in c:\\users\\gabri\\anaconda3\\lib\\site-packages (from gradio) (0.20.0)\n",
      "Requirement already satisfied: matplotlib in c:\\users\\gabri\\anaconda3\\lib\\site-packages (from gradio) (3.6.3)\n",
      "Requirement already satisfied: markupsafe in c:\\users\\gabri\\anaconda3\\lib\\site-packages (from gradio) (2.1.1)\n",
      "Requirement already satisfied: aiofiles in c:\\users\\gabri\\anaconda3\\lib\\site-packages (from gradio) (22.1.0)\n",
      "Requirement already satisfied: pydantic in c:\\users\\gabri\\anaconda3\\lib\\site-packages (from gradio) (1.10.4)\n",
      "Requirement already satisfied: httpx in c:\\users\\gabri\\anaconda3\\lib\\site-packages (from gradio) (0.23.3)\n",
      "Requirement already satisfied: pyyaml in c:\\users\\gabri\\appdata\\roaming\\python\\python39\\site-packages (from gradio) (6.0)\n",
      "Requirement already satisfied: pydub in c:\\users\\gabri\\anaconda3\\lib\\site-packages (from gradio) (0.25.1)\n",
      "Requirement already satisfied: pillow in c:\\users\\gabri\\anaconda3\\lib\\site-packages (from gradio) (9.4.0)\n",
      "Requirement already satisfied: python-multipart in c:\\users\\gabri\\anaconda3\\lib\\site-packages (from gradio) (0.0.5)\n",
      "Requirement already satisfied: orjson in c:\\users\\gabri\\anaconda3\\lib\\site-packages (from gradio) (3.8.5)\n",
      "Requirement already satisfied: fsspec in c:\\users\\gabri\\anaconda3\\lib\\site-packages (from gradio) (2022.10.0)\n",
      "Requirement already satisfied: requests in c:\\users\\gabri\\appdata\\roaming\\python\\python39\\site-packages (from gradio) (2.28.2)\n",
      "Requirement already satisfied: pycryptodome in c:\\users\\gabri\\anaconda3\\lib\\site-packages (from gradio) (3.16.0)\n",
      "Requirement already satisfied: numpy in c:\\users\\gabri\\anaconda3\\lib\\site-packages (from gradio) (1.21.6)\n",
      "Requirement already satisfied: pandas in c:\\users\\gabri\\anaconda3\\lib\\site-packages (from gradio) (1.5.1)\n",
      "Requirement already satisfied: typing-extensions in c:\\users\\gabri\\appdata\\roaming\\python\\python39\\site-packages (from gradio) (4.4.0)\n",
      "Requirement already satisfied: altair>=4.2.0 in c:\\users\\gabri\\anaconda3\\lib\\site-packages (from gradio) (4.2.0)\n",
      "Requirement already satisfied: ffmpy in c:\\users\\gabri\\anaconda3\\lib\\site-packages (from gradio) (0.3.0)\n",
      "Requirement already satisfied: markdown-it-py[linkify,plugins] in c:\\users\\gabri\\anaconda3\\lib\\site-packages (from gradio) (2.1.0)\n",
      "Requirement already satisfied: jinja2 in c:\\users\\gabri\\anaconda3\\lib\\site-packages (from gradio) (3.1.2)\n",
      "Requirement already satisfied: aiohttp in c:\\users\\gabri\\anaconda3\\lib\\site-packages (from gradio) (3.8.3)\n",
      "Requirement already satisfied: websockets>=10.0 in c:\\users\\gabri\\anaconda3\\lib\\site-packages (from gradio) (10.4)\n",
      "Requirement already satisfied: entrypoints in c:\\users\\gabri\\anaconda3\\lib\\site-packages (from altair>=4.2.0->gradio) (0.4)\n",
      "Requirement already satisfied: jsonschema>=3.0 in c:\\users\\gabri\\anaconda3\\lib\\site-packages (from altair>=4.2.0->gradio) (4.16.0)\n",
      "Requirement already satisfied: toolz in c:\\users\\gabri\\anaconda3\\lib\\site-packages (from altair>=4.2.0->gradio) (0.12.0)\n",
      "Requirement already satisfied: python-dateutil>=2.8.1 in c:\\users\\gabri\\anaconda3\\lib\\site-packages (from pandas->gradio) (2.8.2)\n",
      "Requirement already satisfied: pytz>=2020.1 in c:\\users\\gabri\\anaconda3\\lib\\site-packages (from pandas->gradio) (2022.7)\n",
      "Requirement already satisfied: frozenlist>=1.1.1 in c:\\users\\gabri\\anaconda3\\lib\\site-packages (from aiohttp->gradio) (1.3.1)\n",
      "Requirement already satisfied: aiosignal>=1.1.2 in c:\\users\\gabri\\anaconda3\\lib\\site-packages (from aiohttp->gradio) (1.2.0)\n",
      "Requirement already satisfied: charset-normalizer<3.0,>=2.0 in c:\\users\\gabri\\anaconda3\\lib\\site-packages (from aiohttp->gradio) (2.1.1)\n",
      "Requirement already satisfied: attrs>=17.3.0 in c:\\users\\gabri\\anaconda3\\lib\\site-packages (from aiohttp->gradio) (22.1.0)\n",
      "Requirement already satisfied: yarl<2.0,>=1.0 in c:\\users\\gabri\\anaconda3\\lib\\site-packages (from aiohttp->gradio) (1.8.1)\n",
      "Requirement already satisfied: async-timeout<5.0,>=4.0.0a3 in c:\\users\\gabri\\anaconda3\\lib\\site-packages (from aiohttp->gradio) (4.0.2)\n",
      "Requirement already satisfied: multidict<7.0,>=4.5 in c:\\users\\gabri\\anaconda3\\lib\\site-packages (from aiohttp->gradio) (6.0.2)\n",
      "Requirement already satisfied: starlette==0.22.0 in c:\\users\\gabri\\anaconda3\\lib\\site-packages (from fastapi->gradio) (0.22.0)\n",
      "Requirement already satisfied: anyio<5,>=3.4.0 in c:\\users\\gabri\\anaconda3\\lib\\site-packages (from starlette==0.22.0->fastapi->gradio) (3.5.0)\n",
      "Requirement already satisfied: certifi in c:\\users\\gabri\\appdata\\roaming\\python\\python39\\site-packages (from httpx->gradio) (2022.12.7)\n",
      "Requirement already satisfied: rfc3986[idna2008]<2,>=1.3 in c:\\users\\gabri\\anaconda3\\lib\\site-packages (from httpx->gradio) (1.5.0)\n",
      "Requirement already satisfied: sniffio in c:\\users\\gabri\\anaconda3\\lib\\site-packages (from httpx->gradio) (1.2.0)\n",
      "Requirement already satisfied: httpcore<0.17.0,>=0.15.0 in c:\\users\\gabri\\anaconda3\\lib\\site-packages (from httpx->gradio) (0.16.3)\n",
      "Requirement already satisfied: mdurl~=0.1 in c:\\users\\gabri\\anaconda3\\lib\\site-packages (from markdown-it-py[linkify,plugins]->gradio) (0.1.2)\n",
      "Requirement already satisfied: linkify-it-py~=1.0 in c:\\users\\gabri\\anaconda3\\lib\\site-packages (from markdown-it-py[linkify,plugins]->gradio) (1.0.3)\n",
      "Requirement already satisfied: mdit-py-plugins in c:\\users\\gabri\\anaconda3\\lib\\site-packages (from markdown-it-py[linkify,plugins]->gradio) (0.3.3)\n",
      "Requirement already satisfied: kiwisolver>=1.0.1 in c:\\users\\gabri\\anaconda3\\lib\\site-packages (from matplotlib->gradio) (1.4.4)\n",
      "Requirement already satisfied: packaging>=20.0 in c:\\users\\gabri\\appdata\\roaming\\python\\python39\\site-packages (from matplotlib->gradio) (23.0)\n",
      "Requirement already satisfied: pyparsing>=2.2.1 in c:\\users\\gabri\\anaconda3\\lib\\site-packages (from matplotlib->gradio) (3.0.9)\n",
      "Requirement already satisfied: cycler>=0.10 in c:\\users\\gabri\\anaconda3\\lib\\site-packages (from matplotlib->gradio) (0.11.0)\n",
      "Requirement already satisfied: fonttools>=4.22.0 in c:\\users\\gabri\\anaconda3\\lib\\site-packages (from matplotlib->gradio) (4.37.1)\n",
      "Requirement already satisfied: contourpy>=1.0.1 in c:\\users\\gabri\\anaconda3\\lib\\site-packages (from matplotlib->gradio) (1.0.6)\n",
      "Requirement already satisfied: six>=1.4.0 in c:\\users\\gabri\\anaconda3\\lib\\site-packages (from python-multipart->gradio) (1.16.0)\n",
      "Requirement already satisfied: idna<4,>=2.5 in c:\\users\\gabri\\appdata\\roaming\\python\\python39\\site-packages (from requests->gradio) (3.4)\n",
      "Requirement already satisfied: urllib3<1.27,>=1.21.1 in c:\\users\\gabri\\appdata\\roaming\\python\\python39\\site-packages (from requests->gradio) (1.26.14)\n",
      "Requirement already satisfied: click>=7.0 in c:\\users\\gabri\\anaconda3\\lib\\site-packages (from uvicorn->gradio) (8.1.3)\n",
      "Requirement already satisfied: h11>=0.8 in c:\\users\\gabri\\anaconda3\\lib\\site-packages (from uvicorn->gradio) (0.14.0)\n",
      "Requirement already satisfied: colorama in c:\\users\\gabri\\appdata\\roaming\\python\\python39\\site-packages (from click>=7.0->uvicorn->gradio) (0.4.6)\n",
      "Requirement already satisfied: pyrsistent!=0.17.0,!=0.17.1,!=0.17.2,>=0.14.0 in c:\\users\\gabri\\anaconda3\\lib\\site-packages (from jsonschema>=3.0->altair>=4.2.0->gradio) (0.18.0)\n",
      "Requirement already satisfied: uc-micro-py in c:\\users\\gabri\\anaconda3\\lib\\site-packages (from linkify-it-py~=1.0->markdown-it-py[linkify,plugins]->gradio) (1.0.1)\n",
      "Collecting keybert\n",
      "  Downloading keybert-0.7.0.tar.gz (21 kB)\n",
      "  Preparing metadata (setup.py): started\n",
      "  Preparing metadata (setup.py): finished with status 'done'\n",
      "Collecting sentence-transformers>=0.3.8\n",
      "  Downloading sentence-transformers-2.2.2.tar.gz (85 kB)\n",
      "     ---------------------------------------- 86.0/86.0 kB 4.7 MB/s eta 0:00:00\n",
      "  Preparing metadata (setup.py): started\n",
      "  Preparing metadata (setup.py): finished with status 'done'\n",
      "Requirement already satisfied: scikit-learn>=0.22.2 in c:\\users\\gabri\\anaconda3\\lib\\site-packages (from keybert) (1.2.0)\n",
      "Requirement already satisfied: numpy>=1.18.5 in c:\\users\\gabri\\anaconda3\\lib\\site-packages (from keybert) (1.21.6)\n",
      "Collecting rich>=10.4.0\n",
      "  Downloading rich-13.1.0-py3-none-any.whl (238 kB)\n",
      "     ------------------------------------- 238.4/238.4 kB 14.3 MB/s eta 0:00:00\n",
      "Collecting commonmark<0.10.0,>=0.9.0\n",
      "  Downloading commonmark-0.9.1-py2.py3-none-any.whl (51 kB)\n",
      "     ---------------------------------------- 51.1/51.1 kB ? eta 0:00:00\n",
      "Requirement already satisfied: pygments<3.0.0,>=2.6.0 in c:\\users\\gabri\\anaconda3\\lib\\site-packages (from rich>=10.4.0->keybert) (2.11.2)\n",
      "Requirement already satisfied: threadpoolctl>=2.0.0 in c:\\users\\gabri\\anaconda3\\lib\\site-packages (from scikit-learn>=0.22.2->keybert) (3.1.0)\n",
      "Requirement already satisfied: scipy>=1.3.2 in c:\\users\\gabri\\anaconda3\\lib\\site-packages (from scikit-learn>=0.22.2->keybert) (1.10.0)\n",
      "Requirement already satisfied: joblib>=1.1.1 in c:\\users\\gabri\\anaconda3\\lib\\site-packages (from scikit-learn>=0.22.2->keybert) (1.2.0)\n",
      "Requirement already satisfied: transformers<5.0.0,>=4.6.0 in c:\\users\\gabri\\appdata\\roaming\\python\\python39\\site-packages (from sentence-transformers>=0.3.8->keybert) (4.25.1)\n",
      "Requirement already satisfied: tqdm in c:\\users\\gabri\\appdata\\roaming\\python\\python39\\site-packages (from sentence-transformers>=0.3.8->keybert) (4.64.1)\n",
      "Requirement already satisfied: torch>=1.6.0 in c:\\users\\gabri\\anaconda3\\lib\\site-packages (from sentence-transformers>=0.3.8->keybert) (1.13.1+cu116)\n",
      "Requirement already satisfied: torchvision in c:\\users\\gabri\\anaconda3\\lib\\site-packages (from sentence-transformers>=0.3.8->keybert) (0.14.1+cu116)\n",
      "Requirement already satisfied: nltk in c:\\users\\gabri\\anaconda3\\lib\\site-packages (from sentence-transformers>=0.3.8->keybert) (3.7)\n",
      "Collecting sentencepiece\n",
      "  Downloading sentencepiece-0.1.97-cp39-cp39-win_amd64.whl (1.1 MB)\n",
      "     ---------------------------------------- 1.1/1.1 MB 23.9 MB/s eta 0:00:00\n",
      "Requirement already satisfied: huggingface-hub>=0.4.0 in c:\\users\\gabri\\appdata\\roaming\\python\\python39\\site-packages (from sentence-transformers>=0.3.8->keybert) (0.11.1)\n",
      "Requirement already satisfied: pyyaml>=5.1 in c:\\users\\gabri\\appdata\\roaming\\python\\python39\\site-packages (from huggingface-hub>=0.4.0->sentence-transformers>=0.3.8->keybert) (6.0)\n",
      "Requirement already satisfied: typing-extensions>=3.7.4.3 in c:\\users\\gabri\\appdata\\roaming\\python\\python39\\site-packages (from huggingface-hub>=0.4.0->sentence-transformers>=0.3.8->keybert) (4.4.0)\n",
      "Requirement already satisfied: packaging>=20.9 in c:\\users\\gabri\\appdata\\roaming\\python\\python39\\site-packages (from huggingface-hub>=0.4.0->sentence-transformers>=0.3.8->keybert) (23.0)\n",
      "Requirement already satisfied: filelock in c:\\users\\gabri\\appdata\\roaming\\python\\python39\\site-packages (from huggingface-hub>=0.4.0->sentence-transformers>=0.3.8->keybert) (3.9.0)\n",
      "Requirement already satisfied: requests in c:\\users\\gabri\\appdata\\roaming\\python\\python39\\site-packages (from huggingface-hub>=0.4.0->sentence-transformers>=0.3.8->keybert) (2.28.2)\n",
      "Requirement already satisfied: regex!=2019.12.17 in c:\\users\\gabri\\appdata\\roaming\\python\\python39\\site-packages (from transformers<5.0.0,>=4.6.0->sentence-transformers>=0.3.8->keybert) (2022.10.31)\n",
      "Requirement already satisfied: tokenizers!=0.11.3,<0.14,>=0.11.1 in c:\\users\\gabri\\appdata\\roaming\\python\\python39\\site-packages (from transformers<5.0.0,>=4.6.0->sentence-transformers>=0.3.8->keybert) (0.13.2)\n",
      "Requirement already satisfied: colorama in c:\\users\\gabri\\appdata\\roaming\\python\\python39\\site-packages (from tqdm->sentence-transformers>=0.3.8->keybert) (0.4.6)\n",
      "Requirement already satisfied: click in c:\\users\\gabri\\anaconda3\\lib\\site-packages (from nltk->sentence-transformers>=0.3.8->keybert) (8.1.3)\n",
      "Requirement already satisfied: pillow!=8.3.*,>=5.3.0 in c:\\users\\gabri\\anaconda3\\lib\\site-packages (from torchvision->sentence-transformers>=0.3.8->keybert) (9.4.0)\n",
      "Requirement already satisfied: certifi>=2017.4.17 in c:\\users\\gabri\\appdata\\roaming\\python\\python39\\site-packages (from requests->huggingface-hub>=0.4.0->sentence-transformers>=0.3.8->keybert) (2022.12.7)\n",
      "Requirement already satisfied: idna<4,>=2.5 in c:\\users\\gabri\\appdata\\roaming\\python\\python39\\site-packages (from requests->huggingface-hub>=0.4.0->sentence-transformers>=0.3.8->keybert) (3.4)\n",
      "Requirement already satisfied: charset-normalizer<4,>=2 in c:\\users\\gabri\\anaconda3\\lib\\site-packages (from requests->huggingface-hub>=0.4.0->sentence-transformers>=0.3.8->keybert) (2.1.1)\n",
      "Requirement already satisfied: urllib3<1.27,>=1.21.1 in c:\\users\\gabri\\appdata\\roaming\\python\\python39\\site-packages (from requests->huggingface-hub>=0.4.0->sentence-transformers>=0.3.8->keybert) (1.26.14)\n",
      "Building wheels for collected packages: keybert, sentence-transformers\n",
      "  Building wheel for keybert (setup.py): started\n",
      "  Building wheel for keybert (setup.py): finished with status 'done'\n",
      "  Created wheel for keybert: filename=keybert-0.7.0-py3-none-any.whl size=23776 sha256=3734a1fa6aedfc208988df8011e8ee702d857ba04f4c0417258ef2604ff2424d\n",
      "  Stored in directory: c:\\users\\gabri\\appdata\\local\\pip\\cache\\wheels\\68\\aa\\41\\82025d89b0eb97484c9ac7d527abf596765c41733af79f86b0\n",
      "  Building wheel for sentence-transformers (setup.py): started\n",
      "  Building wheel for sentence-transformers (setup.py): finished with status 'done'\n",
      "  Created wheel for sentence-transformers: filename=sentence_transformers-2.2.2-py3-none-any.whl size=125925 sha256=31b288559f78126302be8c0d842296dbb58d154230ade9db865f690afe860ef5\n",
      "  Stored in directory: c:\\users\\gabri\\appdata\\local\\pip\\cache\\wheels\\71\\67\\06\\162a3760c40d74dd40bc855d527008d26341c2b0ecf3e8e11f\n",
      "Successfully built keybert sentence-transformers\n",
      "Installing collected packages: sentencepiece, commonmark, rich, sentence-transformers, keybert\n",
      "Successfully installed commonmark-0.9.1 keybert-0.7.0 rich-13.1.0 sentence-transformers-2.2.2 sentencepiece-0.1.97\n"
     ]
    }
   ],
   "source": [
    "!pip install gradio\n",
    "!pip install keybert"
   ]
  },
  {
   "cell_type": "code",
   "execution_count": 1,
   "id": "0579f060-0277-47a8-b091-be2b6264293d",
   "metadata": {},
   "outputs": [
    {
     "name": "stderr",
     "output_type": "stream",
     "text": [
      "C:\\Users\\gabri\\anaconda3\\lib\\site-packages\\numpy\\_distributor_init.py:30: UserWarning: loaded more than 1 DLL from .libs:\n",
      "C:\\Users\\gabri\\anaconda3\\lib\\site-packages\\numpy\\.libs\\libopenblas.FB5AE2TYXYH2IJRDKGDGQ3XBKLKTF43H.gfortran-win_amd64.dll\n",
      "C:\\Users\\gabri\\anaconda3\\lib\\site-packages\\numpy\\.libs\\libopenblas.XWYDX2IKJW2NMTWSFYNGFUWKQU3LYTCZ.gfortran-win_amd64.dll\n",
      "  warnings.warn(\"loaded more than 1 DLL from .libs:\"\n"
     ]
    },
    {
     "name": "stdout",
     "output_type": "stream",
     "text": [
      "pygame 2.1.2 (SDL 2.0.18, Python 3.9.15)\n",
      "Hello from the pygame community. https://www.pygame.org/contribute.html\n"
     ]
    }
   ],
   "source": [
    "# Imports\n",
    "import torch\n",
    "from torch import autocast\n",
    "from diffusers import StableDiffusionPipeline\n",
    "import numpy as np\n",
    "from PIL import Image\n",
    "import gradio as gr\n",
    "import sys\n",
    "import openai\n",
    "sys.path.append(\"../\")\n",
    "import speech_recognition as sr\n",
    "import pygame\n",
    "from pygame import mixer\n",
    "import cv2"
   ]
  },
  {
   "cell_type": "code",
   "execution_count": 2,
   "id": "5f0ed644-9a7d-4a69-a635-2683a52cb74e",
   "metadata": {},
   "outputs": [],
   "source": [
    "from putting_it_together import WaifuObj"
   ]
  },
  {
   "cell_type": "code",
   "execution_count": 3,
   "id": "39a00ddd-4b9a-42f2-a60b-a783dc5933ad",
   "metadata": {},
   "outputs": [],
   "source": [
    "# Audio recognizer\n",
    "r = sr.Recognizer()"
   ]
  },
  {
   "cell_type": "code",
   "execution_count": 4,
   "id": "1ea45a20-aea6-4f7c-adb2-b41b57bd0112",
   "metadata": {},
   "outputs": [],
   "source": [
    "# Path to the custom audio model\n",
    "audio_model_path = \"../Audio_Generation/Generation_Scripts/saved_models/default\"\n",
    "\n",
    "# Path to the custom audio data\n",
    "audio_data_path = \"../Audio_Generation/Generation_Scripts/data/albedo\"\n",
    "\n",
    "# Path to the custom model to load in\n",
    "custom_model_path = \"../Finetuning/outputs/r/\""
   ]
  },
  {
   "cell_type": "code",
   "execution_count": 5,
   "id": "5ce20bb3-e641-47c8-8070-df3e6f11dd31",
   "metadata": {},
   "outputs": [],
   "source": [
    "# The initial summary is initially a basic prompt telling GPT-3 who it is\n",
    "initial_summ = \"You are my female waifu girlfriend who loves me.\"\\\n",
    "# The initial prompt tells GPT-3 how to respond\n",
    "initial_prompt = \"Me: Hi\\nYou: Hello\\n\\n\"\\\n",
    "    \"Me: How are you?\\nYou: Good. How are you?\\n\\n\"\\\n",
    "    \"Me: I'm good.\\nYou: Nice to meet you.\\n\\n\""
   ]
  },
  {
   "cell_type": "code",
   "execution_count": 6,
   "id": "6be7eb5c-0914-403d-bd9a-3a1e9cd63e33",
   "metadata": {
    "scrolled": true,
    "tags": []
   },
   "outputs": [
    {
     "name": "stdout",
     "output_type": "stream",
     "text": [
      "Initializing image model...\n"
     ]
    },
    {
     "data": {
      "application/vnd.jupyter.widget-view+json": {
       "model_id": "53a3c1a2f9bd46b68c018533835beab6",
       "version_major": 2,
       "version_minor": 0
      },
      "text/plain": [
       "Fetching 15 files:   0%|          | 0/15 [00:00<?, ?it/s]"
      ]
     },
     "metadata": {},
     "output_type": "display_data"
    },
    {
     "name": "stdout",
     "output_type": "stream",
     "text": [
      "Image model initialized!\n",
      "Initializing custom text model\n",
      "Custom text model initialized!\n",
      "Not loading custom audio model\n"
     ]
    }
   ],
   "source": [
    "# Setup function to setup the environment\n",
    "memory_file = \"config_file.json\"\n",
    "Module = WaifuObj(initial_summ, initial_prompt, False, audio_model_path, audio_data_path, custom_model_path, memory_file)"
   ]
  },
  {
   "cell_type": "code",
   "execution_count": null,
   "id": "b8ba2d77-84c7-45d6-a188-e10ae7ef86d9",
   "metadata": {},
   "outputs": [
    {
     "name": "stdout",
     "output_type": "stream",
     "text": [
      "Running on local URL:  http://127.0.0.1:7865\n",
      "\n",
      "To create a public link, set `share=True` in `launch()`.\n"
     ]
    },
    {
     "data": {
      "text/html": [
       "<div><iframe src=\"http://127.0.0.1:7865/\" width=\"100%\" height=\"500\" allow=\"autoplay; camera; microphone; clipboard-read; clipboard-write;\" frameborder=\"0\" allowfullscreen></iframe></div>"
      ],
      "text/plain": [
       "<IPython.core.display.HTML object>"
      ]
     },
     "metadata": {},
     "output_type": "display_data"
    },
    {
     "data": {
      "text/plain": []
     },
     "execution_count": 12,
     "metadata": {},
     "output_type": "execute_result"
    },
    {
     "data": {
      "application/vnd.jupyter.widget-view+json": {
       "model_id": "4e8039d7e83c4711a5e6efcb19fcfc61",
       "version_major": 2,
       "version_minor": 0
      },
      "text/plain": [
       "  0%|          | 0/50 [00:00<?, ?it/s]"
      ]
     },
     "metadata": {},
     "output_type": "display_data"
    }
   ],
   "source": [
    "def build_img_prompt(text, settings, characteristics):\n",
    "    # Get the summary and sentiment\n",
    "    sent = get_sent(text)\n",
    "    summary = get_summ(text)\n",
    "    \n",
    "    # Create the image prompt\n",
    "    # settings = \"1girl, very wide shot, simple background, solo focus, female focus, looking at viewer, ratio:16:9, detailed\"\n",
    "    # characteristics = \"waifu, female, brown hair, blue eyes, sidelocks, slight blush, fox ears\"\n",
    "    # sent = \"furious\"\n",
    "    # summary = \"'I hope get know better' to viewer\"\n",
    "    img_prompt = f\"{settings} {characteristics} {','+sent if len(sent)!=0 else ''}, {summary}\"\n",
    "    return img_prompt\n",
    "\n",
    "\n",
    "def text_to_image(settings, characteristics, guidance_scale, text):\n",
    "    # Get the image prompt\n",
    "    img_prompt = Module.build_img_prompt(text, settings, characteristics)\n",
    "    \n",
    "    # Get the image\n",
    "    with Module.suppress_stdout():\n",
    "        with autocast(\"cuda\"):\n",
    "            image = Module.imgGen(img_prompt, guidance_scale=guidance_scale)[\"images\"]\n",
    "            \n",
    "    \n",
    "    return image\n",
    "\n",
    "# Overall function to generate audio,\n",
    "# text, and images\n",
    "def generate(custom_audio, custom_model, settings, characteristics, guidance_scale, text, audio_pth, GPT_key):\n",
    "    global prompt\n",
    "    global last_image\n",
    "    global last_text\n",
    "    \n",
    "    # Get the audio if there is any\n",
    "    if audio_pth:\n",
    "        # Open the wav file and read in the data\n",
    "        # Get the audio data\n",
    "        audio = sr.AudioFile(audio_pth)\n",
    "        with audio as source:\n",
    "            audio = r.record(source)\n",
    "        \n",
    "        text = audio_to_text(audio)\n",
    "    \n",
    "    # Add the text to the current prompt\n",
    "    Module.cur_prompt += f\"Me: {text}\\n\"\n",
    "    \n",
    "    # Get the response\n",
    "    if custom_model == True:\n",
    "        ret_text = Module.get_response()\n",
    "    else:\n",
    "        try:\n",
    "            ret_text = ret_text = Module.get_response(GPT_key)\n",
    "        except:\n",
    "            gr.Error(\"GPT key is either invalid or not given\")\n",
    "            return last_image, \"Error: GPT key is either invalid or not given.\"\n",
    "    \n",
    "    # Create audio and image for the returned text\n",
    "    if len(ret_text) > 3:\n",
    "        # Create the audio clip\n",
    "        mixer.stop()\n",
    "        mixer.music.unload()\n",
    "        Module.create_audio(ret_text, custom_audio)\n",
    "\n",
    "        # Play the audio\n",
    "        try:\n",
    "            mixer.music.load('tmp.mp3')\n",
    "            mixer.music.play()\n",
    "        except Module.pygame.error:\n",
    "            s = mixer.Sound('tmp.mp3')\n",
    "            s.play()\n",
    "            \n",
    "        # Generate an image from the text\n",
    "        image = text_to_image(settings, characteristics, guidance_scale, ret_text)[0]\n",
    "        \n",
    "        # Save the image and text\n",
    "        last_image = image\n",
    "        last_text = ret_text\n",
    "        \n",
    "        # Return the image\n",
    "        return image, ret_text\n",
    "    \n",
    "# Transcribes audio to text\n",
    "def audio_to_text(audio):\n",
    "    try:\n",
    "        text = r.recognize_google(audio)\n",
    "    except sr.UnknownValueError:\n",
    "        text = \"\" # Default to nothing\n",
    "            \n",
    "    return text\n",
    "\n",
    "\n",
    "def audio_auto_submit(custom_audio, custom_model, settings, characteristics, guidance_scale, text, audio_pth, GPT_key):\n",
    "    if audio_pth != None:\n",
    "        return generate(custom_audio, custom_model, settings, characteristics, guidance_scale, text, audio_pth, GPT_key)\n",
    "    global last_image\n",
    "    global last_text\n",
    "    return last_image, last_text\n",
    "\n",
    "# Incase of an error, these can be used\n",
    "global last_image\n",
    "global last_text\n",
    "last_image = np.zeros((50, 50, 3))\n",
    "last_text = \"Error\"\n",
    "\n",
    "# Initialize the audio mixer\n",
    "mixer.init()\n",
    "mixer.music.unload()\n",
    "\n",
    "\n",
    "def load_mem(filename):\n",
    "    try:\n",
    "        Module.load_memory(filename)\n",
    "        return \"Success!\"\n",
    "    except:\n",
    "        return \"Fail! File does not exist or is in incorrect format\"\n",
    "\n",
    "\n",
    "interface = gr.Blocks()\n",
    "with interface:\n",
    "    with gr.Tabs():\n",
    "        with gr.TabItem(\"Generation\"):\n",
    "            # Talking to the AI\n",
    "            with gr.Tabs():\n",
    "                with gr.TabItem(\"Voice-based Chat\"):\n",
    "                    audio = gr.Audio(source=\"microphone\", type=\"filepath\", label=\"Response\", live=True)\n",
    "                with gr.TabItem(\"Text-based Chat\"):\n",
    "                    text = gr.Textbox(label=\"Text\", value=\"I love you!\", interactive=True)\n",
    "            response = gr.Textbox(label=\"Response\", value=\"\", interactive=False)\n",
    "                \n",
    "\n",
    "            # Note gallery expects a 3-D array: (L, W, 3)\n",
    "            gallery = gr.Image(label=\"Generated images\", show_label=False)\\\n",
    "                .style(height=512)\n",
    "\n",
    "            # Button to generate an image\n",
    "            btn = gr.Button(\"Generate\")\n",
    "            \n",
    "            \n",
    "        with gr.TabItem(\"Settings\"):\n",
    "            # Switched for which model to use\n",
    "            custom_model = gr.Checkbox(value=True, label=\"Use custom chat model? (False to use GPT, True to use custom model)\")\n",
    "            GPT_key_ = gr.Textbox(label=\"Key to use GPT-3 (if using GPT-3)\\nNote: If you don't have one go here: https://elephas.app/blog/how-to-create-openai-api-keys-cl5c4f21d281431po7k8fgyol0\", value=\"\", interactive=True)\n",
    "            custom_audio = gr.Checkbox(value=False, label=\"Use custom audio model?\")\n",
    "\n",
    "            # Settings for the image\n",
    "            settings = gr.Textbox(label=\"Settings\", value= \"1girl, very wide shot, simple background, solo focus, female focus, looking at viewer, ratio:16:9, detailed\", interactive=True)\n",
    "            characteristics = gr.Textbox(label=\"Characteristics\", value=\"waifu, female, brown hair, blue eyes, sidelocks, slight blush\", interactive=True)\n",
    "            guidance_scale = gr.Number(label=\"Guidance value - Tradeoff between creativity and image fidelity (greater than 1.0)\", value=10.0, interactive=True, precision=1)\n",
    "            \n",
    "            # Load in some memory\n",
    "            with gr.Column():\n",
    "                mem_file = gr.Textbox(label=\"Memory File\", value= \"\", interactive=True)\n",
    "                with gr.Row():\n",
    "                    mem_load_btn = gr.Button(\"Load memory file\")\n",
    "                    mem_file_success = gr.Textbox(label=\"Was the load successful?\", value= \"\", interactive=False)\n",
    "                    mem_load_btn.click(fn=load_mem, inputs=[mem_file], outputs=[mem_file_success])\n",
    "            \n",
    "            \n",
    "        audio.change(audio_auto_submit, inputs=[custom_audio, custom_model, settings, characteristics, guidance_scale, text, audio, GPT_key_], outputs=[gallery, response])\n",
    "        btn.click(fn=generate, inputs=[custom_audio, custom_model, settings, characteristics, guidance_scale, text, audio, GPT_key_], outputs=[gallery, response])\n",
    "        text.submit(fn=generate, inputs=[custom_audio, custom_model, settings, characteristics, guidance_scale, text, audio, GPT_key_], outputs=[gallery, response])\n",
    "\n",
    "interface.launch(debug=False, share=False)"
   ]
  },
  {
   "cell_type": "code",
   "execution_count": null,
   "id": "09bd6aa3-5f8b-4e24-ac54-bba6a5dfd3e0",
   "metadata": {},
   "outputs": [],
   "source": []
  }
 ],
 "metadata": {
  "kernelspec": {
   "display_name": "Python 3 (ipykernel)",
   "language": "python",
   "name": "python3"
  },
  "language_info": {
   "codemirror_mode": {
    "name": "ipython",
    "version": 3
   },
   "file_extension": ".py",
   "mimetype": "text/x-python",
   "name": "python",
   "nbconvert_exporter": "python",
   "pygments_lexer": "ipython3",
   "version": "3.9.15"
  }
 },
 "nbformat": 4,
 "nbformat_minor": 5
}
