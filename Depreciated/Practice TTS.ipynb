{
 "cells": [
  {
   "cell_type": "code",
   "execution_count": 23,
   "id": "8a3a60f1-6ee1-4de2-a269-71d989d3ce4b",
   "metadata": {
    "scrolled": true,
    "tags": []
   },
   "outputs": [
    {
     "name": "stdout",
     "output_type": "stream",
     "text": [
      "Requirement already satisfied: gTTS in c:\\users\\gabri\\anaconda3\\lib\\site-packages (2.3.0)\n",
      "Requirement already satisfied: six~=1.16.0 in c:\\users\\gabri\\anaconda3\\lib\\site-packages (from gTTS) (1.16.0)\n",
      "Requirement already satisfied: requests~=2.28.0 in c:\\users\\gabri\\anaconda3\\lib\\site-packages (from gTTS) (2.28.1)\n",
      "Requirement already satisfied: click~=8.1.3 in c:\\users\\gabri\\anaconda3\\lib\\site-packages (from gTTS) (8.1.3)\n",
      "Requirement already satisfied: colorama in c:\\users\\gabri\\anaconda3\\lib\\site-packages (from click~=8.1.3->gTTS) (0.4.6)\n",
      "Requirement already satisfied: idna<4,>=2.5 in c:\\users\\gabri\\anaconda3\\lib\\site-packages (from requests~=2.28.0->gTTS) (3.4)\n",
      "Requirement already satisfied: charset-normalizer<3,>=2 in c:\\users\\gabri\\anaconda3\\lib\\site-packages (from requests~=2.28.0->gTTS) (2.0.4)\n",
      "Requirement already satisfied: certifi>=2017.4.17 in c:\\users\\gabri\\anaconda3\\lib\\site-packages (from requests~=2.28.0->gTTS) (2022.12.7)\n",
      "Requirement already satisfied: urllib3<1.27,>=1.21.1 in c:\\users\\gabri\\anaconda3\\lib\\site-packages (from requests~=2.28.0->gTTS) (1.26.13)\n",
      "Collecting pygame\n",
      "  Downloading pygame-2.1.2-cp39-cp39-win_amd64.whl (8.4 MB)\n",
      "     ---------------------------------------- 8.4/8.4 MB 23.4 MB/s eta 0:00:00\n",
      "Installing collected packages: pygame\n",
      "Successfully installed pygame-2.1.2\n"
     ]
    }
   ],
   "source": [
    "# Installs\n",
    "!pip install gTTS\n",
    "!pip install pygame"
   ]
  },
  {
   "cell_type": "code",
   "execution_count": 1,
   "id": "db9050a5-dc4b-4665-8b9c-3e81fbbd7bae",
   "metadata": {},
   "outputs": [],
   "source": [
    "# Import the required module for text \n",
    "# to speech conversion\n",
    "from gtts import gTTS"
   ]
  },
  {
   "cell_type": "code",
   "execution_count": 2,
   "id": "6c55a2cc-a1a4-407d-a977-7bebfb0299ac",
   "metadata": {},
   "outputs": [
    {
     "name": "stdout",
     "output_type": "stream",
     "text": [
      "pygame 2.1.2 (SDL 2.0.18, Python 3.9.15)\n",
      "Hello from the pygame community. https://www.pygame.org/contribute.html\n"
     ]
    },
    {
     "name": "stderr",
     "output_type": "stream",
     "text": [
      "C:\\Users\\gabri\\anaconda3\\lib\\site-packages\\numpy\\_distributor_init.py:30: UserWarning: loaded more than 1 DLL from .libs:\n",
      "C:\\Users\\gabri\\anaconda3\\lib\\site-packages\\numpy\\.libs\\libopenblas.FB5AE2TYXYH2IJRDKGDGQ3XBKLKTF43H.gfortran-win_amd64.dll\n",
      "C:\\Users\\gabri\\anaconda3\\lib\\site-packages\\numpy\\.libs\\libopenblas.XWYDX2IKJW2NMTWSFYNGFUWKQU3LYTCZ.gfortran-win_amd64.dll\n",
      "  warnings.warn(\"loaded more than 1 DLL from .libs:\"\n"
     ]
    }
   ],
   "source": [
    "# This module is imported so that we can \n",
    "# play the converted audio\n",
    "from pygame import mixer"
   ]
  },
  {
   "cell_type": "code",
   "execution_count": 3,
   "id": "ee96595e-7fa1-4013-b1a1-2488ab7392d8",
   "metadata": {},
   "outputs": [],
   "source": [
    "# The text that you want to convert to audio\n",
    "mytext = 'Hey there! Thank you for spending some time with me! I hope we can get to know each other better!'"
   ]
  },
  {
   "cell_type": "code",
   "execution_count": 4,
   "id": "a8bd54be-9ecb-4e9d-83c4-75c57a9c90e2",
   "metadata": {},
   "outputs": [],
   "source": [
    "# Language in which you want to convert\n",
    "language = 'en'"
   ]
  },
  {
   "cell_type": "code",
   "execution_count": 5,
   "id": "5bdbe07a-348a-49d2-a545-0193e2ea2db4",
   "metadata": {},
   "outputs": [],
   "source": [
    "# Passing the text and language to the engine, \n",
    "# here we have marked slow=False. Which tells \n",
    "# the module that the converted audio should \n",
    "# have a high speed\n",
    "mytext = \"I don't really know who I am but I do know that I like to code.\"\n",
    "myobj = gTTS(text=mytext, lang=language, slow=False)"
   ]
  },
  {
   "cell_type": "code",
   "execution_count": 6,
   "id": "98c2a7e5-cf8f-41be-83e4-deb1a42ec652",
   "metadata": {},
   "outputs": [],
   "source": [
    "# Saving the converted audio in a mp3 file named\n",
    "# welcome \n",
    "myobj.save(\"4.mp3\")"
   ]
  },
  {
   "cell_type": "code",
   "execution_count": 8,
   "id": "848221f2-4480-4d7a-88d0-4739e53a33b9",
   "metadata": {},
   "outputs": [],
   "source": [
    "# Playing the converted file\n",
    "mixer.init()\n",
    "mixer.music.load('welcome.mp3')\n",
    "mixer.music.play()"
   ]
  },
  {
   "cell_type": "code",
   "execution_count": 27,
   "id": "2e28a3dd-4a1a-4dc5-b428-2b53fea14465",
   "metadata": {},
   "outputs": [],
   "source": [
    "# Stop if wanted to\n",
    "mixer.music.stop()"
   ]
  },
  {
   "cell_type": "code",
   "execution_count": null,
   "id": "33d68d18-079c-4379-9dbb-c361734cbdc6",
   "metadata": {},
   "outputs": [],
   "source": [
    "# Maybe use these for custom voices\n",
    "# https://www.resemble.ai/python/\n",
    "# https://github.com/mozilla/TTS"
   ]
  }
 ],
 "metadata": {
  "kernelspec": {
   "display_name": "Python 3 (ipykernel)",
   "language": "python",
   "name": "python3"
  },
  "language_info": {
   "codemirror_mode": {
    "name": "ipython",
    "version": 3
   },
   "file_extension": ".py",
   "mimetype": "text/x-python",
   "name": "python",
   "nbconvert_exporter": "python",
   "pygments_lexer": "ipython3",
   "version": "3.9.15"
  }
 },
 "nbformat": 4,
 "nbformat_minor": 5
}
