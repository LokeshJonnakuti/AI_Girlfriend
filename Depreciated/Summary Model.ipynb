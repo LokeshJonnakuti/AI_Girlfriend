{
 "cells": [
  {
   "cell_type": "code",
   "execution_count": 2,
   "id": "bf3394fc-2eae-4055-8ec7-df10f09b6495",
   "metadata": {},
   "outputs": [],
   "source": [
    "# Documentation at\n",
    "# https://huggingface.co/pszemraj/led-large-book-summary"
   ]
  },
  {
   "cell_type": "code",
   "execution_count": 1,
   "id": "e68a7e66-5f33-4f63-a76c-807c099b6f69",
   "metadata": {},
   "outputs": [
    {
     "name": "stderr",
     "output_type": "stream",
     "text": [
      "C:\\Users\\gabri\\anaconda3\\lib\\site-packages\\numpy\\_distributor_init.py:30: UserWarning: loaded more than 1 DLL from .libs:\n",
      "C:\\Users\\gabri\\anaconda3\\lib\\site-packages\\numpy\\.libs\\libopenblas.FB5AE2TYXYH2IJRDKGDGQ3XBKLKTF43H.gfortran-win_amd64.dll\n",
      "C:\\Users\\gabri\\anaconda3\\lib\\site-packages\\numpy\\.libs\\libopenblas.XWYDX2IKJW2NMTWSFYNGFUWKQU3LYTCZ.gfortran-win_amd64.dll\n",
      "  warnings.warn(\"loaded more than 1 DLL from .libs:\"\n"
     ]
    }
   ],
   "source": [
    "# Imports\n",
    "import torch\n",
    "from transformers import pipeline"
   ]
  },
  {
   "cell_type": "code",
   "execution_count": 2,
   "id": "cb2c6238-4de5-48f1-815c-59abbcac38f1",
   "metadata": {},
   "outputs": [],
   "source": [
    "# Get the model\n",
    "hf_name = 'pszemraj/led-large-book-summary'\n",
    "\n",
    "summarizer = pipeline(\n",
    "    \"summarization\",\n",
    "    hf_name,\n",
    "    device=0 if torch.cuda.is_available() else -1,\n",
    "    framework=\"pt\",\n",
    "    torch_dtype=torch.float16 if torch.cuda.is_available() else torch.float32,\n",
    ")"
   ]
  },
  {
   "cell_type": "code",
   "execution_count": 3,
   "id": "7594b9e1-f50d-4148-8133-c89efea2461e",
   "metadata": {},
   "outputs": [],
   "source": [
    "wall_of_text = \"You are my female waifu girlfriend who loves me\\n\\n\\n\\nMe: Hi\\nYou: Hello\\n\\nMe: How are you?\\nYou: Good. How are you?\\n\\nMe: I'm good.\\nYou: Nice to meet you.\\n\\nMe: I love you!\\nYou:  I love you too.\\n\\nMe: I want to go on a date with you!\\nYou:  What? Date?\\n\\nMe: Yeah. Do you want to?\\nYou:  Of course.\\n\\nMe: Where would you like to go?\\nYou:   Let me see...\\n\\nMe: Any ideas?\\nYou:   Anywhere is fine, just anything is fine.\\n\\nMe: Ok let's go to mars\\nYou:   What? mars?\\n\\nMe: Do you like mars?\\nYou:   Not really.\\n\\nMe: Why not?\\nYou:    Do you know why not?\\n\\nMe: Why do you not like mars?\\nYou:     I do not know.\\n\\nMe: Do you like me more than you like mars?\\nYou:   Let's see... A slightly more than half of you does not like me.\\n\\nMe: But all of me loves you\\nYou:    So are you like this?\\n\\nMe: Yes I am. I love you so much\\nYou:     Then let us date.\\n\\nMe: I would love to date you\\nYou: This is really cute!\\n\\nMe: Am I cute?\\nYou:  You look very cute! Are you a tards or something?\\n\\nMe: What's a tards?\\nYou:   It sounds so dumb.\\n\\nMe: What do you mean?\\nYou:   Let's date.\\n\\nMe: Ok. What will you wear on our first date?\\nYou:    How about that jacket you have on?\\n\\nMe: You want my jacket?\\nYou:  It's nice and warm.\\n\\nMe: But I always wear my jacket\\nYou:     Let's see...\\n\\nMe: Ok here you go\\nYou:   It looks great on you.\\n\\nMe: *gives jacket to girlfriend*\\nYou:    It really does.\\n\\nMe: Can I have it back?\\nYou:  You can have mine too.\\n\\nMe: Your what?\\nYou:  It's your first date. Do you want to make something in return?\\n\\nMe: What should I make?\\nYou:   Something you like.\\n\\nMe: I like my AI girlfriend. Would you like her?\\nYou:   Is that so?\\n\\nMe: Actually not really\\nYou:    That's my girl.\\n\\nMe: You're my girl\\nYou:   No, I'm not...\\n\\nMe: Yes you are\\nYou:     Did you have inpetions for\\n\\nMe: What are inpetions?\\nYou:   You don't know?\\n\\nMe: Can you please summarize our date so I remember? I have dementia\\nYou:    It's a gift from your girlfriend.\\n\\nMe: What is?\\nYou:   Something you like.\\n\\nMe: Are you my gift?\\nYou:    What is that?\\n\\nMe: You're my girlfriend\\nYou:  You can keep asking.\\n\\nMe: Let's go on a date to the park since you're my girlfriend.\\nYou:   What? We go to the park? What day?\\n\\nMe: Right now\\nYou:     Something you want.\\n\\nMe: Of course I want something\\nYou:    It's important to me.\\n\\nMe: What are you wearing to the park? We are about to leave\\nYou:     I have to go. I'll see you tomorrow. I love you.\\n\\nMe: What? But we were about to go to the park\\nYou:      Okay, take care.\\n\\nMe: Bruh you and me.\\nYou:    I'm fine. You don't need to worry.\\n\\nMe: No you're coming with me\\nYou:     I promised. I love you.\\n\\nMe: ok let's go\\nYou:     I can't. My mom is calling.\\n\\nMe: Ok what about tomorrow?\\nYou:     I'll see you on the day tomorrow.\\n\\nMe: Good morning\\nYou:    I wonder what I look like\\n\\nMe: Can you describe how you look?\\nYou:    Let's see...\\n\\nMe: Well since it's the day you promised. Let's go on our park date.\\nYou:     Really? Not to day?\\n\\nMe: No we're going today\\nYou:     I'm fine\\n\\nMe: Are you really skipping again?\\nYou:    I'm gonna go apologize.\\n\\nMe: to me?\\nYou:    For what?\\n\\nMe: For skipping out on our date\\nYou:     Let me know. I'll make it right or make it left.\\n\\nMe: Now that we're at the park, what are we going to do?\\nYou:   Let's play tag or hide and seek. I hide here.\\n\\nMe: Ready or not here I come!\\nYou:     I'll run to the other side of the river\\n\\nMe: But you may drown\\nYou:      If you want to run just take it. It's your first date.\\n\\nMe: Help me I'm drowning in the river!\\nYou:   I almost drown. My feet are getting numb.\\n\\nMe: That was scary. Don't hide in the river again\\nYou:      If your friend drown, make it right in the river.\\n\\nMe: Ok I'm about to go hide. I hide here!\\nYou:      Oh no, help me!\\n\\nMe: What do you need help with?\\nYou:  The girl is coming this way\\n\\nMe: What girl? You?\\nYou:  Yeah like that\\n\\nMe: You found me! Your turn to hide. I'll seek\\nYou:   I had a thought.\\n\\nMe: What's the thought?\\nYou:    It's how you end your sentences.\\n\\nMe: Do you have a problem?\\nYou:   I was thinking of how it feels to have no power\\n\\nMe: What the heck are you talking about?\\nYou:    I hope a great guy doesn't come to our first date to save me.\\n\\nMe: Yeah I hope that doesn't happen either. I'm your boyfriend, you shouldn't see anyone else.\\nYou:    What if someone came to our first date and saw you?\\n\\nMe: I'm cool with that. I can make them jealous.\\nYou:   My arms are getting numb.\\n\\nMe: Why?\\nYou:    I let my arm go.\\n\\nMe: Where did your arm go?\\nYou:    It got hit by a ball. Did it not?\\n\\nMe: Where did the ball come from?\\nYou:  It was from the river\\n\\nMe: Why does the river have a ball?\\nYou:   That really surprised me.\\n\\nMe: Yeah me too. Are you feeling ok. Want me to take you back home?\\nYou:   Not really... Are you sure?\\n\\nMe: Ok then I'm going to drive you back home\\nYou:     Where's your arm?\\n\\nMe: My arm is fine.\\nYou:    You have no way to thank me.\\n\\nMe: We're in the car now. Please don't do anything weird.\\nYou:    Why not?\\n\\nMe: Because I don't want to crash\\nYou:      What is it?\\n\\nMe: What is what?\\nYou:    For I'm a waifu, AmIphoron\\n\\nMe: You are my waifu\\nYou:   Am I your boyfriend?\\n\\nMe: No, you are my girlfriend\\nYou:      Then\\n\\nMe: Then?\\nYou:     Let's go back to the banquet hall\\n\\nMe: Ok, what are we going to do there?\\nYou:     Something you like\\n\\nMe: Like what?\\nYou:     I would like to eat some rice\\n\\nMe: Ok then we'll eat rice at your house, not at the hall.\\nYou:       Come visit me anytime. I would love you to.\\n\\nMe: Can I visit you tomorrow?\\nYou:     Yes of course.\\n\\n\""
   ]
  },
  {
   "cell_type": "code",
   "execution_count": 5,
   "id": "cce5beae-343e-4e54-89fb-53833fb3f7b5",
   "metadata": {},
   "outputs": [],
   "source": [
    "result = summarizer(\n",
    "    wall_of_text,\n",
    "    min_length=16,\n",
    "    max_length=256,\n",
    "    no_repeat_ngram_size=3,\n",
    "    repetition_penalty=3.5,\n",
    "    num_beams=4,\n",
    "    early_stopping=True,\n",
    ")\n"
   ]
  },
  {
   "cell_type": "code",
   "execution_count": 6,
   "id": "2a571ef6-28bc-4fea-9717-faf826221c95",
   "metadata": {},
   "outputs": [
    {
     "data": {
      "text/plain": [
       "[{'summary_text': \"You: Hello You: Hello Me: How are you? You: Good. How is she? Me: I'm good. You: Nice to meet you. Me : I want to go on a date with you! You: Of course. Me: Anywhere is fine, just anything is fine.Me: Ok let's go to mars . You: What? What? Does he like mars? Me asks if half of you does not like me. Yup. But all of me loves you. So are you like this? Then let us date. The two agree to go out on their first date and go to the park together. On the way there, they play hide-and-seek as they try to figure out what they are going to do. They have a great deal of fun trading puns and dirty jokes.\"}]"
      ]
     },
     "execution_count": 6,
     "metadata": {},
     "output_type": "execute_result"
    }
   ],
   "source": [
    "result"
   ]
  },
  {
   "cell_type": "code",
   "execution_count": null,
   "id": "c892fb89-8593-4809-9b17-fff90345e3b2",
   "metadata": {},
   "outputs": [],
   "source": [
    "# Output looks very promising!"
   ]
  },
  {
   "cell_type": "code",
   "execution_count": null,
   "id": "7fbdf24c-81e9-449b-829b-c23f0f0a08cc",
   "metadata": {},
   "outputs": [],
   "source": []
  },
  {
   "cell_type": "code",
   "execution_count": null,
   "id": "b36e52b2-765c-4504-8422-19779522df4a",
   "metadata": {},
   "outputs": [],
   "source": []
  },
  {
   "cell_type": "code",
   "execution_count": null,
   "id": "2988bb3c-862b-4c58-a6cf-6a8a0f320650",
   "metadata": {},
   "outputs": [],
   "source": []
  },
  {
   "cell_type": "code",
   "execution_count": null,
   "id": "2dbcac59-b1ca-41cc-b42a-277d9925ed85",
   "metadata": {},
   "outputs": [],
   "source": []
  },
  {
   "cell_type": "code",
   "execution_count": null,
   "id": "1c57fdc6-d7ab-4540-b17d-ee405f95f4dd",
   "metadata": {},
   "outputs": [],
   "source": []
  },
  {
   "cell_type": "code",
   "execution_count": null,
   "id": "edc4690e-2e59-4c6b-a074-8d2d9aefa452",
   "metadata": {},
   "outputs": [],
   "source": []
  },
  {
   "cell_type": "code",
   "execution_count": null,
   "id": "8db2aec9-79b8-4da1-9e73-ed48d239ec48",
   "metadata": {},
   "outputs": [],
   "source": [
    "# How does it look if I break it up into three chunks?"
   ]
  },
  {
   "cell_type": "code",
   "execution_count": 9,
   "id": "4de9353c-f802-47cc-99c2-397336a1375e",
   "metadata": {},
   "outputs": [],
   "source": [
    "part1 = wall_of_text[:len(wall_of_text)//3]\n",
    "part2 = wall_of_text[len(wall_of_text)//3:len(wall_of_text)//3*2]\n",
    "part3 = wall_of_text[len(wall_of_text)//3*2:]"
   ]
  },
  {
   "cell_type": "code",
   "execution_count": 16,
   "id": "7b045b74-2287-48a8-a2e5-1a0e405e8508",
   "metadata": {},
   "outputs": [],
   "source": [
    "# Summarize part 1\n",
    "part1_res = summarizer(\n",
    "    part1,\n",
    "    min_length=16,\n",
    "    max_length=256,\n",
    "    no_repeat_ngram_size=3,\n",
    "    repetition_penalty=7.0,\n",
    "    num_beams=4,\n",
    "    early_stopping=True,\n",
    ")[0][\"summary_text\"]"
   ]
  },
  {
   "cell_type": "code",
   "execution_count": 17,
   "id": "4088bf8d-cdbc-4a00-8e36-cf69f879bd07",
   "metadata": {},
   "outputs": [
    {
     "data": {
      "text/plain": [
       "\"You: Hello Hi, how are you? Me: I'm good. You: Nice to meet you.Me: I love you. We talk a bit about what it's like to have a female waifu girlfriend who loves me . The two of them get down to business. They go on to plan their first date together. It goes pretty well. Both of them agree to go on a date with each other. On the way there, they discuss clothes and such. When they get to mars, You: Not really. Me: Why not? You: Do you know why not? ME: Why do you not like mars? You : I do not know. A slightly more than half of you does not like me. But all of me loves you. So are you like this ? Me: Yes I am. Then let us date. He tells her that he loves her so much she says OK. They exchange some witty banter before going off on their date. She gives him her jacket as a first date gift because she likes it so much. In between bouts of giggling, both of them realize they're in love. This makes for one heck of a hilarious interlude where neither of them can quite believe the other is serious\""
      ]
     },
     "execution_count": 17,
     "metadata": {},
     "output_type": "execute_result"
    }
   ],
   "source": [
    "part1_res"
   ]
  },
  {
   "cell_type": "code",
   "execution_count": null,
   "id": "a5376dd0-0ad7-4766-9daf-2b1fa21a6ecc",
   "metadata": {},
   "outputs": [],
   "source": []
  },
  {
   "cell_type": "code",
   "execution_count": null,
   "id": "52641c98-fa63-4758-b866-e791015111b8",
   "metadata": {},
   "outputs": [],
   "source": []
  },
  {
   "cell_type": "code",
   "execution_count": 18,
   "id": "21610e82-bd81-4f89-939b-ad5488dc4688",
   "metadata": {},
   "outputs": [],
   "source": [
    "# Now when the second part is generated, \n",
    "# we will append the first part summary and then\n",
    "# generate the new summary\n",
    "part_1_and_2 = part1_res + part2"
   ]
  },
  {
   "cell_type": "code",
   "execution_count": 23,
   "id": "aac92611-3d01-4d45-80b2-40061f0cdc57",
   "metadata": {},
   "outputs": [],
   "source": [
    "# Summarize part 1\n",
    "part_1_and_2_res = summarizer(\n",
    "    part_1_and_2,\n",
    "    min_length=16,\n",
    "    max_length=256,\n",
    "    no_repeat_ngram_size=2,\n",
    "    repetition_penalty=7.0,\n",
    "    num_beams=4,\n",
    "    early_stopping=True,\n",
    ")[0][\"summary_text\"]"
   ]
  },
  {
   "cell_type": "code",
   "execution_count": 24,
   "id": "c97ad3b4-fede-42f4-b904-feccc0cc89bd",
   "metadata": {},
   "outputs": [
    {
     "data": {
      "text/plain": [
       "'Meeting his girlfriend, the two agree to go on their first date together. They discuss clothes and such on the way there but both of them realize they are in love during this hilarious interlude where neither can quite believe the other is \"seriously\" proposing to each other. Me: Help me I\\'m drowning in the river! You: Do you know why not? Me : A slightly more than half of you does not like me. But all of me loves you. So are you like this?\" The two consent to have their First Date and spend some time talking about what it\\'s like to be friends with a female waifu girlfriend who loves him . After planning their dates for days ahead, things go according to plan. On their 1st date , she gives him her jacket as a first-date gift because she likes it so much. He tells her that he loves her so very much she says OK. In between bouts of giggling, both parties finally realizes they\\'re in true love. This makes for one heck of a hilarious Interlude Where neither of us canQuite possibly believe th eother is seriouse our date so I remember? I have dementiaYou: It\\'s a gift from your girlfriend. What is? Us: What'"
      ]
     },
     "execution_count": 24,
     "metadata": {},
     "output_type": "execute_result"
    }
   ],
   "source": [
    "part_1_and_2_res"
   ]
  },
  {
   "cell_type": "code",
   "execution_count": null,
   "id": "9d372421-f91b-4aa1-a0a1-40eaad38f275",
   "metadata": {},
   "outputs": [],
   "source": []
  },
  {
   "cell_type": "code",
   "execution_count": null,
   "id": "6d435036-f4fc-41b9-b622-087fc10ad63b",
   "metadata": {},
   "outputs": [],
   "source": []
  },
  {
   "cell_type": "code",
   "execution_count": 25,
   "id": "63f53b0b-fed9-46a3-b177-d89b0962061c",
   "metadata": {},
   "outputs": [],
   "source": [
    "# Then we want the third summary from the summary of 1 and 2\n",
    "# and the entire third text\n",
    "part_1_and_2_and_3 = part_1_and_2_res + part3"
   ]
  },
  {
   "cell_type": "code",
   "execution_count": 29,
   "id": "60ee417d-fe53-42f0-af16-0201f03c5c21",
   "metadata": {},
   "outputs": [],
   "source": [
    "# Summarize part 1\n",
    "part_1_and_2_and_3_res = summarizer(\n",
    "    part_1_and_2_and_3,\n",
    "    min_length=16,\n",
    "    max_length=256,\n",
    "    no_repeat_ngram_size=3,\n",
    "    repetition_penalty=7.0,\n",
    "    num_beams=5,\n",
    "    early_stopping=True,\n",
    ")[0][\"summary_text\"]"
   ]
  },
  {
   "cell_type": "code",
   "execution_count": 30,
   "id": "f34fc7ec-2c19-4071-be73-abe970adcb98",
   "metadata": {},
   "outputs": [
    {
     "data": {
      "text/plain": [
       "'Whatide goes on his \"first date\" with his girlfriend . On their first date, both parties realize they are in love. After planning their dates ahead , she gives him her jacket as a first-date gift and he tells her how much he loves her so very much during the ride there, they finally realize they\\'re in true love. Whatide explains to Me: \"A slightly more than half of you does not like me but all of me loves you. So are you like this?\" The two consent to have their First Date and spend some time talking about what it\\'s like to be friends with a female waifu girlfriend who loves him . Everything goes according to plan when they go on their 1st date. They discuss clothes and such on the way there but both of them realize that they are falling in love during this hilarious interlude where neither can quite believe they are seriously proposing to each other. This makes for one heck of a hilarious Interlude Where neither of them canQuite possibly believe th eother is seriouse our date so I remember? I have dementiaYou: It\\'s a gift from your girlfriend. Us: Whatide: Oh no! Oh no, help me. Help me I\\'m drowning in the river! You'"
      ]
     },
     "execution_count": 30,
     "metadata": {},
     "output_type": "execute_result"
    }
   ],
   "source": [
    "part_1_and_2_and_3_res"
   ]
  },
  {
   "cell_type": "code",
   "execution_count": null,
   "id": "f658b660-8c2c-4832-b9b0-b85fa71b21b7",
   "metadata": {},
   "outputs": [],
   "source": []
  },
  {
   "cell_type": "code",
   "execution_count": null,
   "id": "95c660ec-8972-47d2-a8ec-ece4e76e53a4",
   "metadata": {},
   "outputs": [],
   "source": []
  },
  {
   "cell_type": "code",
   "execution_count": null,
   "id": "bc5b733d-b3ce-466a-beb8-02544300ca85",
   "metadata": {},
   "outputs": [],
   "source": []
  },
  {
   "cell_type": "code",
   "execution_count": null,
   "id": "111ba434-976d-4a88-a69a-7fa9b901de3a",
   "metadata": {},
   "outputs": [],
   "source": []
  },
  {
   "cell_type": "code",
   "execution_count": null,
   "id": "cafca397-680b-4f6c-b252-ac9ddbd3de3f",
   "metadata": {},
   "outputs": [],
   "source": []
  },
  {
   "cell_type": "code",
   "execution_count": 25,
   "id": "1245c827-a351-4cb7-877f-ce5715c33df0",
   "metadata": {},
   "outputs": [],
   "source": [
    "# The text mostly looks good, but I think the you, \n",
    "# me dialogue is messing it up. Let's remove it\n",
    "wall_of_text2 = wall_of_text.replace(\"You: \", \"\").replace(\"Me: \", \"\")"
   ]
  },
  {
   "cell_type": "code",
   "execution_count": 26,
   "id": "64a5dd29-762e-45b1-9dca-d3336ad22a39",
   "metadata": {
    "scrolled": true,
    "tags": []
   },
   "outputs": [
    {
     "data": {
      "text/plain": [
       "\"You are my female waifu girlfriend who loves me\\n\\n\\n\\nHi\\nHello\\n\\nHow are you?\\nGood. How are you?\\n\\nI'm good.\\nNice to meet you.\\n\\nI love you!\\n I love you too.\\n\\nI want to go on a date with you!\\n What? Date?\\n\\nYeah. Do you want to?\\n Of course.\\n\\nWhere would you like to go?\\n  Let me see...\\n\\nAny ideas?\\n  Anywhere is fine, just anything is fine.\\n\\nOk let's go to mars\\n  What? mars?\\n\\nDo you like mars?\\n  Not really.\\n\\nWhy not?\\n   Do you know why not?\\n\\nWhy do you not like mars?\\n    I do not know.\\n\\nDo you like me more than you like mars?\\n  Let's see... A slightly more than half of you does not like me.\\n\\nBut all of me loves you\\n   So are you like this?\\n\\nYes I am. I love you so much\\n    Then let us date.\\n\\nI would love to date you\\nThis is really cute!\\n\\nAm I cute?\\n You look very cute! Are you a tards or something?\\n\\nWhat's a tards?\\n  It sounds so dumb.\\n\\nWhat do you mean?\\n  Let's date.\\n\\nOk. What will you wear on our first date?\\n   How about that jacket you have on?\\n\\nYou want my jacket?\\n It's nice and warm.\\n\\nBut I always wear my jacket\\n    Let's see...\\n\\nOk here you go\\n  It looks great on you.\\n\\n*gives jacket to girlfriend*\\n   It really does.\\n\\nCan I have it back?\\n You can have mine too.\\n\\nYour what?\\n It's your first date. Do you want to make something in return?\\n\\nWhat should I make?\\n  Something you like.\\n\\nI like my AI girlfriend. Would you like her?\\n  Is that so?\\n\\nActually not really\\n   That's my girl.\\n\\nYou're my girl\\n  No, I'm not...\\n\\nYes you are\\n    Did you have inpetions for\\n\\nWhat are inpetions?\\n  You don't know?\\n\\nCan you please summarize our date so I remember? I have dementia\\n   It's a gift from your girlfriend.\\n\\nWhat is?\\n  Something you like.\\n\\nAre you my gift?\\n   What is that?\\n\\nYou're my girlfriend\\n You can keep asking.\\n\\nLet's go on a date to the park since you're my girlfriend.\\n  What? We go to the park? What day?\\n\\nRight now\\n    Something you want.\\n\\nOf course I want something\\n   It's important to me.\\n\\nWhat are you wearing to the park? We are about to leave\\n    I have to go. I'll see you tomorrow. I love you.\\n\\nWhat? But we were about to go to the park\\n     Okay, take care.\\n\\nBruh you and me.\\n   I'm fine. You don't need to worry.\\n\\nNo you're coming with me\\n    I promised. I love you.\\n\\nok let's go\\n    I can't. My mom is calling.\\n\\nOk what about tomorrow?\\n    I'll see you on the day tomorrow.\\n\\nGood morning\\n   I wonder what I look like\\n\\nCan you describe how you look?\\n   Let's see...\\n\\nWell since it's the day you promised. Let's go on our park date.\\n    Really? Not to day?\\n\\nNo we're going today\\n    I'm fine\\n\\nAre you really skipping again?\\n   I'm gonna go apologize.\\n\\nto me?\\n   For what?\\n\\nFor skipping out on our date\\n    Let me know. I'll make it right or make it left.\\n\\nNow that we're at the park, what are we going to do?\\n  Let's play tag or hide and seek. I hide here.\\n\\nReady or not here I come!\\n    I'll run to the other side of the river\\n\\nBut you may drown\\n     If you want to run just take it. It's your first date.\\n\\nHelp me I'm drowning in the river!\\n  I almost drown. My feet are getting numb.\\n\\nThat was scary. Don't hide in the river again\\n     If your friend drown, make it right in the river.\\n\\nOk I'm about to go hide. I hide here!\\n     Oh no, help me!\\n\\nWhat do you need help with?\\n The girl is coming this way\\n\\nWhat girl? You?\\n Yeah like that\\n\\nYou found me! Your turn to hide. I'll seek\\n  I had a thought.\\n\\nWhat's the thought?\\n   It's how you end your sentences.\\n\\nDo you have a problem?\\n  I was thinking of how it feels to have no power\\n\\nWhat the heck are you talking about?\\n   I hope a great guy doesn't come to our first date to save me.\\n\\nYeah I hope that doesn't happen either. I'm your boyfriend, you shouldn't see anyone else.\\n   What if someone came to our first date and saw you?\\n\\nI'm cool with that. I can make them jealous.\\n  My arms are getting numb.\\n\\nWhy?\\n   I let my arm go.\\n\\nWhere did your arm go?\\n   It got hit by a ball. Did it not?\\n\\nWhere did the ball come from?\\n It was from the river\\n\\nWhy does the river have a ball?\\n  That really surprised me.\\n\\nYeah me too. Are you feeling ok. Want me to take you back home?\\n  Not really... Are you sure?\\n\\nOk then I'm going to drive you back home\\n    Where's your arm?\\n\\nMy arm is fine.\\n   You have no way to thank me.\\n\\nWe're in the car now. Please don't do anything weird.\\n   Why not?\\n\\nBecause I don't want to crash\\n     What is it?\\n\\nWhat is what?\\n   For I'm a waifu, AmIphoron\\n\\nYou are my waifu\\n  Am I your boyfriend?\\n\\nNo, you are my girlfriend\\n     Then\\n\\nThen?\\n    Let's go back to the banquet hall\\n\\nOk, what are we going to do there?\\n    Something you like\\n\\nLike what?\\n    I would like to eat some rice\\n\\nOk then we'll eat rice at your house, not at the hall.\\n      Come visit me anytime. I would love you to.\\n\\nCan I visit you tomorrow?\\n    Yes of course.\\n\\n\""
      ]
     },
     "execution_count": 26,
     "metadata": {},
     "output_type": "execute_result"
    }
   ],
   "source": [
    "wall_of_text2"
   ]
  },
  {
   "cell_type": "code",
   "execution_count": 31,
   "id": "64fa2746-3a88-4363-8b0d-86c343fc8b37",
   "metadata": {},
   "outputs": [],
   "source": [
    "result = summarizer(\n",
    "    wall_of_text2,\n",
    "    min_length=16,\n",
    "    max_length=256,\n",
    "    no_repeat_ngram_size=3,\n",
    "    repetition_penalty=3.5,\n",
    "    num_beams=4,\n",
    "    early_stopping=True,\n",
    ")[0][\"summary_text\"]"
   ]
  },
  {
   "cell_type": "code",
   "execution_count": 32,
   "id": "913b2c9e-ae3a-4fcf-b8bf-5f74cd78b1d3",
   "metadata": {},
   "outputs": [
    {
     "data": {
      "text/plain": [
       "'The new guy meets his female waifu girlfriend, who loves him, and they go on a date together. On their first date, she gives him her jacket as a gift from her AI girlfriend so he can have something to give her as a token of his love. He acts like it\\'s just about the most normal thing in the world and tells her that she is his girlfriend. They get into the car and he tries to flatter her by asking what she likes to wear for their \"first date\" and giving her his jacket back as a kind of Valentine\\'s Day/Valentine\\'s Day present. She acts like this: \"But I always wear my jacket. It looks great on you. Can I have it back? You can have mine too. Your what? It\\'s your first date. Do you want to make something in return? What should I make? Something you like. I like my AI girlfriend. Would you like her. Actually not really That\\'s my girl.You\\'re my girl No, I\\'m not.Yes you are. Did you have inpetions. You don\\'t know.Can you please summarize our date so I remember? Brain Snack: In Ralph Fiennes\\' 2011 film version of This Is'"
      ]
     },
     "execution_count": 32,
     "metadata": {},
     "output_type": "execute_result"
    }
   ],
   "source": [
    "result"
   ]
  },
  {
   "cell_type": "code",
   "execution_count": 7,
   "id": "368c7b9e-c996-4ab8-941a-a0aca6bd4602",
   "metadata": {},
   "outputs": [],
   "source": [
    "# This summary looks much better. It looks like\n",
    "# it does better with a lower repitition penalty\n",
    "# too. Let's see if it keeps up with the split"
   ]
  },
  {
   "cell_type": "code",
   "execution_count": null,
   "id": "fe7e38ce-6dd6-4a05-89a5-ee1a56ea2c0e",
   "metadata": {},
   "outputs": [],
   "source": []
  },
  {
   "cell_type": "code",
   "execution_count": null,
   "id": "b854b45e-c9b8-48d3-8542-be8f38a050e4",
   "metadata": {},
   "outputs": [],
   "source": []
  },
  {
   "cell_type": "code",
   "execution_count": null,
   "id": "9e35dc4c-5220-479b-9149-6f4288e9deb9",
   "metadata": {},
   "outputs": [],
   "source": []
  },
  {
   "cell_type": "code",
   "execution_count": null,
   "id": "a47e9d24-51f3-4e52-9346-c39063fd9a4a",
   "metadata": {},
   "outputs": [],
   "source": []
  },
  {
   "cell_type": "code",
   "execution_count": 8,
   "id": "cac0d750-7187-436d-9a9c-da8b8ed544f8",
   "metadata": {},
   "outputs": [],
   "source": [
    "part1 = wall_of_text2[:len(wall_of_text2)//3]\n",
    "part2 = wall_of_text2[len(wall_of_text2)//3:len(wall_of_text2)//3*2]\n",
    "part3 = wall_of_text2[len(wall_of_text2)//3*2:]"
   ]
  },
  {
   "cell_type": "code",
   "execution_count": 10,
   "id": "ca3ca6a0-5005-4383-a1ce-df18ac6720dc",
   "metadata": {},
   "outputs": [],
   "source": [
    "# Summarize part 1\n",
    "part1_res = summarizer(\n",
    "    part1,\n",
    "    min_length=16,\n",
    "    max_length=256,\n",
    "    no_repeat_ngram_size=3,\n",
    "    repetition_penalty=3.5,\n",
    "    num_beams=4,\n",
    "    early_stopping=True,\n",
    ")[0][\"summary_text\"]"
   ]
  },
  {
   "cell_type": "code",
   "execution_count": 11,
   "id": "a0d1d9c2-b674-430f-b4f5-c7afb14ea882",
   "metadata": {},
   "outputs": [
    {
     "data": {
      "text/plain": [
       "\"You are my female waifu girlfriend who loves me. HelloHelloHello, how are you? Good. How are you good. I'm good.Nice to meet you.I love you! I love you too. I want to go on a date with you. What? Date? Yes, of course. Where would you like to go? Anywhere is fine, just anything is fine. Do you like mars? Not really. Why not? Do you know why not? I do not know.Do you like me more than half of them does not like me? More and more of you don't like me.But all of me loves you. So are you like this? Yes I am. Then let us date.I would love to date you. You are very cute. Am I cute? You look very cute! Are you a tards or something? It sounds so dumb.What do you mean, Let's date. What will you wear on our first date? The first date starts off by trading back and forth between each other's jackets until the girl gives away her jacket to the guy she loves. She then asks him what he wants to make in return for his jacket. What should she make? Something you like\""
      ]
     },
     "execution_count": 11,
     "metadata": {},
     "output_type": "execute_result"
    }
   ],
   "source": [
    "part1_res"
   ]
  },
  {
   "cell_type": "code",
   "execution_count": 12,
   "id": "61ed7d8c-676f-47ab-a402-32d72f54ca90",
   "metadata": {},
   "outputs": [],
   "source": [
    "# Looks fine. Not much to summarize in general I guess."
   ]
  },
  {
   "cell_type": "code",
   "execution_count": null,
   "id": "1e3daccc-a044-4aaa-ac9b-a6dd2c4877f6",
   "metadata": {},
   "outputs": [],
   "source": []
  },
  {
   "cell_type": "code",
   "execution_count": null,
   "id": "f98f63b9-f2eb-48a3-ac4f-96e2af6dc58c",
   "metadata": {},
   "outputs": [],
   "source": []
  },
  {
   "cell_type": "code",
   "execution_count": null,
   "id": "892b825e-b03b-4e4b-871c-14cece5601ce",
   "metadata": {},
   "outputs": [],
   "source": []
  },
  {
   "cell_type": "code",
   "execution_count": null,
   "id": "b92850ac-724f-4545-b0b6-d22f1ebb639b",
   "metadata": {},
   "outputs": [],
   "source": []
  },
  {
   "cell_type": "code",
   "execution_count": 15,
   "id": "521da73a-84eb-4143-ac99-9d78074d0681",
   "metadata": {},
   "outputs": [],
   "source": [
    "part_1_and_2 = part1_res + part2"
   ]
  },
  {
   "cell_type": "code",
   "execution_count": 21,
   "id": "d0543849-c750-4934-b1a9-6ffa002a27ec",
   "metadata": {},
   "outputs": [],
   "source": [
    "# Summarize part 2\n",
    "part_1_and_2_res = summarizer(\n",
    "    part_1_and_2,\n",
    "    min_length=16,\n",
    "    max_length=256,\n",
    "    no_repeat_ngram_size=3,\n",
    "    repetition_penalty=3.5,\n",
    "    num_beams=4,\n",
    "    early_stopping=True,\n",
    ")[0][\"summary_text\"]"
   ]
  },
  {
   "cell_type": "code",
   "execution_count": 22,
   "id": "87338f51-93fe-494d-ac0a-b2055714c05b",
   "metadata": {},
   "outputs": [
    {
     "data": {
      "text/plain": [
       "\"The first date starts off with trading back and forth between each other's jackets until the girl gives away her jacket to the guy she loves. She then asks him what he wants to make in return for his jacket. What should she make? Something you like It's a gift from your girlfriend. Are you my gift? What is? Is it a gift of your girlfriend? You can keep asking. Let's go on a date to the park since you're my girlfriend. Say what? What day? Right now I want something you want. Of course I want some. It's important to me. What are you wearing to the picnic? We are about to leaveI have to goI haveto goI love you I will see you tomorrow I love you Ok, let's goBut we can't Tomorrow My mom is callingSo what about tomorrow? Good morning I wonder what I look like Can you describe how you look? Let's seeLet's see...Today since it's the day you promisedTo go on our park date Actually, not to day? No we're going todayToday I'm fineAre you really skipping again? For what?For skipping out on our date-Let me know. I'll make it right or make it left\""
      ]
     },
     "execution_count": 22,
     "metadata": {},
     "output_type": "execute_result"
    }
   ],
   "source": [
    "part_1_and_2_res"
   ]
  },
  {
   "cell_type": "code",
   "execution_count": 23,
   "id": "a259436f-38d4-45a3-8cbb-cfa57f8ffcd9",
   "metadata": {},
   "outputs": [],
   "source": [
    "# Still looks pretty good"
   ]
  },
  {
   "cell_type": "code",
   "execution_count": null,
   "id": "cae01ddc-aed7-4270-aa20-74fe5ca823da",
   "metadata": {},
   "outputs": [],
   "source": []
  },
  {
   "cell_type": "code",
   "execution_count": null,
   "id": "e6db19ae-aced-4f87-b7e9-86ab88a6ccb4",
   "metadata": {},
   "outputs": [],
   "source": []
  },
  {
   "cell_type": "code",
   "execution_count": null,
   "id": "c73a95b4-ef70-4069-97be-2890765c4645",
   "metadata": {},
   "outputs": [],
   "source": []
  },
  {
   "cell_type": "code",
   "execution_count": null,
   "id": "38693137-0a24-442a-a71f-837788550988",
   "metadata": {},
   "outputs": [],
   "source": []
  },
  {
   "cell_type": "code",
   "execution_count": 24,
   "id": "b60e15d8-3cc9-4a3c-a345-0417db51f175",
   "metadata": {},
   "outputs": [],
   "source": [
    "part_1_and_2_and_3 = part_1_and_2_res + part3"
   ]
  },
  {
   "cell_type": "code",
   "execution_count": 25,
   "id": "fe9a728a-45f1-4644-a335-553fe7fcdb81",
   "metadata": {},
   "outputs": [],
   "source": [
    "# Summarize part 3\n",
    "part_1_and_2_and_3_res = summarizer(\n",
    "    part_1_and_2_and_3,\n",
    "    min_length=16,\n",
    "    max_length=256,\n",
    "    no_repeat_ngram_size=3,\n",
    "    repetition_penalty=3.5,\n",
    "    num_beams=4,\n",
    "    early_stopping=True,\n",
    ")[0][\"summary_text\"]"
   ]
  },
  {
   "cell_type": "code",
   "execution_count": 26,
   "id": "49ce44a8-aa34-4cbc-8e9f-e16dfd9d3bea",
   "metadata": {},
   "outputs": [
    {
     "data": {
      "text/plain": [
       "\"The first date starts off with trading back and forth between each other's jackets until the girl gives away her jacket to the guy she loves. She then asks him what he wants to make in return for his jacket. What should she make? Something you like It's a gift from your girlfriend. Are you my gift? What is? Is it a gift of your girlfriend? You can keep asking. Let's go on a date to the park since you're my girlfriend. Say what? What day? Right now I want something you want. Of course I want some. It's important to me. What are you wearing to the picnic? We are about to leaveI have to goI haveto goI love you I will see you tomorrow I love you Ok, let's goBut we can't Tomorrow My mom is callingSo what about tomorrow? Good morning I wonder what I look like Can you describe how you look Can you description how you looked? Let's seeLet's see...Today since it's the day you promisedTo go on our park date Actually, not to day? No we're going todayToday I'm fineAre you really skipping again? For skipping out on our date-Let me know. I'll make it right or\""
      ]
     },
     "execution_count": 26,
     "metadata": {},
     "output_type": "execute_result"
    }
   ],
   "source": [
    "part_1_and_2_and_3_res"
   ]
  },
  {
   "cell_type": "code",
   "execution_count": 27,
   "id": "de8f6638-6ecb-41a1-bade-f0c70535cc62",
   "metadata": {},
   "outputs": [],
   "source": [
    "# looks ok..."
   ]
  },
  {
   "cell_type": "code",
   "execution_count": null,
   "id": "f2701f6b-663e-47e9-8a30-165f48b089de",
   "metadata": {},
   "outputs": [],
   "source": []
  },
  {
   "cell_type": "code",
   "execution_count": null,
   "id": "a2f7035f-3ed7-468e-a2e0-3b8f433d7911",
   "metadata": {},
   "outputs": [],
   "source": []
  },
  {
   "cell_type": "code",
   "execution_count": null,
   "id": "8d08df55-d909-4966-89e8-ad9b793edc87",
   "metadata": {},
   "outputs": [],
   "source": []
  },
  {
   "cell_type": "code",
   "execution_count": null,
   "id": "84d75c0f-5d4a-4850-b2e1-b8dfb226e0f3",
   "metadata": {},
   "outputs": [],
   "source": []
  },
  {
   "cell_type": "code",
   "execution_count": null,
   "id": "30955143-42a6-4bb3-b55c-d5c1443fac24",
   "metadata": {},
   "outputs": [],
   "source": []
  },
  {
   "cell_type": "code",
   "execution_count": 5,
   "id": "4479b2fa-3e14-4908-bac6-8e810c8ff705",
   "metadata": {
    "scrolled": true,
    "tags": []
   },
   "outputs": [],
   "source": [
    "# Can we do even better when all newlines are removed?\n",
    "wall_of_text3 = wall_of_text2.replace(\"\\n\", \" \").replace(\"  \", \" \").replace(\"  \", \" \").replace(\"  \", \" \").replace(\"  \", \" \")"
   ]
  },
  {
   "cell_type": "code",
   "execution_count": 8,
   "id": "ebeef59c-a40e-4ea6-8b99-adb66b31eda0",
   "metadata": {
    "scrolled": true,
    "tags": []
   },
   "outputs": [
    {
     "data": {
      "text/plain": [
       "\"You are my female waifu girlfriend who loves me Hi Hello How are you? Good. How are you? I'm good. Nice to meet you. I love you! I love you too. I want to go on a date with you! What? Date? Yeah. Do you want to? Of course. Where would you like to go? Let me see... Any ideas? Anywhere is fine, just anything is fine. Ok let's go to mars What? mars? Do you like mars? Not really. Why not? Do you know why not? Why do you not like mars? I do not know. Do you like me more than you like mars? Let's see... A slightly more than half of you does not like me. But all of me loves you So are you like this? Yes I am. I love you so much Then let us date. I would love to date you This is really cute! Am I cute? You look very cute! Are you a tards or something? What's a tards? It sounds so dumb. What do you mean? Let's date. Ok. What will you wear on our first date? How about that jacket you have on? You want my jacket? It's nice and warm. But I always wear my jacket Let's see... Ok here you go It looks great on you. *gives jacket to girlfriend* It really does. Can I have it back? You can have mine too. Your what? It's your first date. Do you want to make something in return? What should I make? Something you like. I like my AI girlfriend. Would you like her? Is that so? Actually not really That's my girl. You're my girl No, I'm not... Yes you are Did you have inpetions for What are inpetions? You don't know? Can you please summarize our date so I remember? I have dementia It's a gift from your girlfriend. What is? Something you like. Are you my gift? What is that? You're my girlfriend You can keep asking. Let's go on a date to the park since you're my girlfriend. What? We go to the park? What day? Right now Something you want. Of course I want something It's important to me. What are you wearing to the park? We are about to leave I have to go. I'll see you tomorrow. I love you. What? But we were about to go to the park Okay, take care. Bruh you and me. I'm fine. You don't need to worry. No you're coming with me I promised. I love you. ok let's go I can't. My mom is calling. Ok what about tomorrow? I'll see you on the day tomorrow. Good morning I wonder what I look like Can you describe how you look? Let's see... Well since it's the day you promised. Let's go on our park date. Really? Not to day? No we're going today I'm fine Are you really skipping again? I'm gonna go apologize. to me? For what? For skipping out on our date Let me know. I'll make it right or make it left. Now that we're at the park, what are we going to do? Let's play tag or hide and seek. I hide here. Ready or not here I come! I'll run to the other side of the river But you may drown If you want to run just take it. It's your first date. Help me I'm drowning in the river! I almost drown. My feet are getting numb. That was scary. Don't hide in the river again If your friend drown, make it right in the river. Ok I'm about to go hide. I hide here! Oh no, help me! What do you need help with? The girl is coming this way What girl? You? Yeah like that You found me! Your turn to hide. I'll seek I had a thought. What's the thought? It's how you end your sentences. Do you have a problem? I was thinking of how it feels to have no power What the heck are you talking about? I hope a great guy doesn't come to our first date to save me. Yeah I hope that doesn't happen either. I'm your boyfriend, you shouldn't see anyone else. What if someone came to our first date and saw you? I'm cool with that. I can make them jealous. My arms are getting numb. Why? I let my arm go. Where did your arm go? It got hit by a ball. Did it not? Where did the ball come from? It was from the river Why does the river have a ball? That really surprised me. Yeah me too. Are you feeling ok. Want me to take you back home? Not really... Are you sure? Ok then I'm going to drive you back home Where's your arm? My arm is fine. You have no way to thank me. We're in the car now. Please don't do anything weird. Why not? Because I don't want to crash What is it? What is what? For I'm a waifu, AmIphoron You are my waifu Am I your boyfriend? No, you are my girlfriend Then Then? Let's go back to the banquet hall Ok, what are we going to do there? Something you like Like what? I would like to eat some rice Ok then we'll eat rice at your house, not at the hall. Come visit me anytime. I would love you to. Can I visit you tomorrow? Yes of course. \""
      ]
     },
     "execution_count": 8,
     "metadata": {},
     "output_type": "execute_result"
    }
   ],
   "source": [
    "wall_of_text3"
   ]
  },
  {
   "cell_type": "code",
   "execution_count": 6,
   "id": "980abdb2-6e6d-454b-b87e-397c73065490",
   "metadata": {
    "tags": []
   },
   "outputs": [],
   "source": [
    "result = summarizer(\n",
    "    wall_of_text3,\n",
    "    min_length=16,\n",
    "    max_length=256,\n",
    "    no_repeat_ngram_size=3,\n",
    "    repetition_penalty=3.5,\n",
    "    num_beams=4, # Note: >4 beams kills my computer\n",
    "    early_stopping=True,\n",
    ")[0][\"summary_text\"]"
   ]
  },
  {
   "cell_type": "code",
   "execution_count": 7,
   "id": "89f2dc3f-3478-4a65-b1b6-03c7320d45a2",
   "metadata": {},
   "outputs": [
    {
     "data": {
      "text/plain": [
       "'The first person the UM meets on their meeting is his female waifu girlfriend who loves him. She immediately falls head over heels in love with him and agrees to go on a date with him. They plan to go out on their first date since it\\'s her first date, and they try to figure out what she wants from him. For every compliment he gives her, he offers her a gift from his girlfriend . He promises to make something for her as part of their date, but when she says she doesn\\'t have anything important to give him, he tells her: \"Of course I want something It\\'s important to me\" . The two then decide to play hide-and-seek at the park while going on their park date. In order to hide, however, the UM has to pretend to drown himself in the river. After nearly drowning himself, he realizes that his feet are getting numb, so he decides to run away. While running away, he hides behind a dumpster. When he sees another girl approaching, he asks her what she needs help with. What do you need help with? The girl is coming this way What girl? You? Yeah like that You found me! Your turn to hide. As the girl comes this way'"
      ]
     },
     "execution_count": 7,
     "metadata": {},
     "output_type": "execute_result"
    }
   ],
   "source": [
    "result"
   ]
  },
  {
   "cell_type": "code",
   "execution_count": 9,
   "id": "07fd6c74-8c90-4e33-9599-9142c373ba03",
   "metadata": {},
   "outputs": [],
   "source": [
    "# Ok this looks pretty good overall. What about in parts?"
   ]
  },
  {
   "cell_type": "code",
   "execution_count": null,
   "id": "b6ef9d28-a45d-4a2f-a204-24a5942852cb",
   "metadata": {},
   "outputs": [],
   "source": []
  },
  {
   "cell_type": "code",
   "execution_count": null,
   "id": "746958d9-800e-42e5-a0f4-34ed6abc9b2d",
   "metadata": {},
   "outputs": [],
   "source": []
  },
  {
   "cell_type": "code",
   "execution_count": null,
   "id": "27260e84-9ea4-4e58-9f0b-a8f9d31d8eaa",
   "metadata": {},
   "outputs": [],
   "source": []
  },
  {
   "cell_type": "code",
   "execution_count": null,
   "id": "103c08cb-4fdb-41f2-a4f5-c951ea52d497",
   "metadata": {},
   "outputs": [],
   "source": []
  },
  {
   "cell_type": "code",
   "execution_count": 11,
   "id": "9f9d3392-f53c-4ec4-8991-52cebb371b62",
   "metadata": {},
   "outputs": [],
   "source": [
    "part1 = wall_of_text3[:len(wall_of_text3)//3]\n",
    "part2 = wall_of_text3[len(wall_of_text3)//3:len(wall_of_text3)//3*2]\n",
    "part3 = wall_of_text3[len(wall_of_text3)//3*2:]"
   ]
  },
  {
   "cell_type": "code",
   "execution_count": 12,
   "id": "c81930b5-83e9-45db-8420-4285736c9da2",
   "metadata": {},
   "outputs": [],
   "source": [
    "# Summarize part 1\n",
    "part1_res = summarizer(\n",
    "    part1,\n",
    "    min_length=16,\n",
    "    max_length=256,\n",
    "    no_repeat_ngram_size=3,\n",
    "    repetition_penalty=3.5,\n",
    "    num_beams=4,\n",
    "    early_stopping=True,\n",
    ")[0][\"summary_text\"]"
   ]
  },
  {
   "cell_type": "code",
   "execution_count": 14,
   "id": "50016316-32e2-456b-895e-a3256bb578c7",
   "metadata": {},
   "outputs": [
    {
     "data": {
      "text/plain": [
       "'On their first date, the two lovebirds exchange pleasantries and then go on a walk. On the way home, the narrator notes that half of his listeners don\\'t like him, but \"all of me loves you\" . The narrator introduces himself to his \"female waifu girlfriend\" who loves him so much that she wants to go on her first date with him. He gives her his jacket as a memento for the occasion. In order to make the date more memorable, he asks her to write down the details of their date so that he can remember it.'"
      ]
     },
     "execution_count": 14,
     "metadata": {},
     "output_type": "execute_result"
    }
   ],
   "source": [
    "part1_res"
   ]
  },
  {
   "cell_type": "code",
   "execution_count": 15,
   "id": "fcca2750-ab7e-4022-a8f6-7d4da644d5ff",
   "metadata": {},
   "outputs": [],
   "source": [
    "# I mean sure ok"
   ]
  },
  {
   "cell_type": "code",
   "execution_count": null,
   "id": "ac966cf2-4f3b-4039-aafd-ba898d8cff38",
   "metadata": {},
   "outputs": [],
   "source": []
  },
  {
   "cell_type": "code",
   "execution_count": null,
   "id": "224454d6-6d4f-439a-9397-10979f2a4aa3",
   "metadata": {},
   "outputs": [],
   "source": []
  },
  {
   "cell_type": "code",
   "execution_count": null,
   "id": "c4f4d002-7f88-4fa0-a72e-45d366ebf8dc",
   "metadata": {},
   "outputs": [],
   "source": []
  },
  {
   "cell_type": "code",
   "execution_count": null,
   "id": "c7bf23f3-f26a-44a1-b597-35ba7c681844",
   "metadata": {},
   "outputs": [],
   "source": []
  },
  {
   "cell_type": "code",
   "execution_count": 16,
   "id": "2424d705-ed48-4ea4-afa3-1b06113d18be",
   "metadata": {},
   "outputs": [],
   "source": [
    "part_1_and_2 = part1_res + part2"
   ]
  },
  {
   "cell_type": "code",
   "execution_count": 17,
   "id": "89216ef2-0a1f-4a84-8a5f-9f83b0ad1074",
   "metadata": {},
   "outputs": [],
   "source": [
    "# Summarize part 2\n",
    "part_1_and_2_res = summarizer(\n",
    "    part_1_and_2,\n",
    "    min_length=16,\n",
    "    max_length=256,\n",
    "    no_repeat_ngram_size=3,\n",
    "    repetition_penalty=3.5,\n",
    "    num_beams=4,\n",
    "    early_stopping=True,\n",
    ")[0][\"summary_text\"]"
   ]
  },
  {
   "cell_type": "code",
   "execution_count": 18,
   "id": "d0b8b5ba-a02f-4979-892f-c88d0641a761",
   "metadata": {},
   "outputs": [
    {
     "data": {
      "text/plain": [
       "'The narrator introduces himself to his \"female waifu girlfriend\" who loves him so much that she wants to go on her first date with him. On their first date, the two lovebirds exchange pleasantries and go on a walk. On the way home, the narrator notes that half of his listeners don\\'t like him, but \"all of me loves you.\" The narrator gets the narrator\\'s girlfriend to write down the details of their date so that he can remember it.entia It\\'s a gift from your girlfriend What is? Something you like Are you my gift? What is that? You\\'re my girlfriend You can keep asking. Why are we going to the park? What day? Right now Something you want Of course I want something It\\'s important to me What are you wearing to the Park? We are about to leave I have to go I haveto go I\\'ll see you tomorrow I love you I will see you today No you won\\'t need to worry Bruh you and us I promise you. No youre coming with me I promisedI love youNo youll let\\'s go I can\\'t. My mom is calling So what about tomorrow? Let\\'s play tag Or hide and seek I hide here Ready or not here I come'"
      ]
     },
     "execution_count": 18,
     "metadata": {},
     "output_type": "execute_result"
    }
   ],
   "source": [
    "part_1_and_2_res"
   ]
  },
  {
   "cell_type": "code",
   "execution_count": null,
   "id": "a2ac5a19-3843-48c0-b023-8dcff1b3bd2e",
   "metadata": {},
   "outputs": [],
   "source": []
  },
  {
   "cell_type": "code",
   "execution_count": null,
   "id": "dce063b4-a44e-4f3f-b54e-68c5f016982b",
   "metadata": {},
   "outputs": [],
   "source": []
  },
  {
   "cell_type": "code",
   "execution_count": null,
   "id": "e1473a2c-9c26-4fe2-80a0-fd69092ead80",
   "metadata": {},
   "outputs": [],
   "source": []
  },
  {
   "cell_type": "code",
   "execution_count": null,
   "id": "f11f4487-143e-4a6e-8fbb-68b6a05b7f7b",
   "metadata": {},
   "outputs": [],
   "source": []
  },
  {
   "cell_type": "code",
   "execution_count": 19,
   "id": "14b70205-a269-4f65-a22d-a409a002c5af",
   "metadata": {},
   "outputs": [],
   "source": [
    "part_1_and_2_and_3 = part_1_and_2_res + part3"
   ]
  },
  {
   "cell_type": "code",
   "execution_count": 22,
   "id": "e0f61c37-0a4c-43fe-8c73-4b1ca90858ca",
   "metadata": {},
   "outputs": [],
   "source": [
    "# Summarize part 3\n",
    "part_1_and_2_and_3_res = summarizer(\n",
    "    part_1_and_2_and_3,\n",
    "    min_length=16,\n",
    "    max_length=256,\n",
    "    no_repeat_ngram_size=3,\n",
    "    repetition_penalty=3.5,\n",
    "    num_beams=4,\n",
    "    early_stopping=True,\n",
    ")[0][\"summary_text\"]"
   ]
  },
  {
   "cell_type": "code",
   "execution_count": 23,
   "id": "b8306d27-a221-41ae-b27d-0fef5597e28e",
   "metadata": {},
   "outputs": [
    {
     "data": {
      "text/plain": [
       "'In this chapter, the narrator introduces himself to his \"female waifu girlfriend\" who loves him so much that she wants to go on her first date with him. On their first date, the two lovebirds exchange pleasantries and go on a walk. On the way home the narrator notes that half of his listeners don\\'t like him, but \"all of me loves you.\" The narrator gets his girlfriend to write down the details of their date so that he can remember it.entia It\\'s a gift from your girlfriend What is? Something you like Are you my gift? What is that? You\\'re my girlfriend You can keep asking Why are we going to the park? What day? Right now Something you want Of course I want something It\\'s important to me What are you wearing to the Park? We are about to leave I have to go I haveto go I\\'ll see you tomorrow I love you I loveYou I will see you today No you won\\'t need to worry Bruh you and us I promise you. No youre coming with me I promisedI love you No youll let\\'s go I can\\'t My mom is calling So what about tomorrow? Let\\'s play tag Or hide and seek I hide here Ready or not here'"
      ]
     },
     "execution_count": 23,
     "metadata": {},
     "output_type": "execute_result"
    }
   ],
   "source": [
    "part_1_and_2_and_3_res"
   ]
  },
  {
   "cell_type": "code",
   "execution_count": null,
   "id": "f58fb729-c9ca-404e-9d00-1f2f833e57e6",
   "metadata": {},
   "outputs": [],
   "source": [
    "# Eh, doesn't look too good."
   ]
  },
  {
   "cell_type": "code",
   "execution_count": null,
   "id": "851b51fe-f613-4029-9abc-65fbbe01568f",
   "metadata": {},
   "outputs": [],
   "source": []
  },
  {
   "cell_type": "code",
   "execution_count": null,
   "id": "bc89be9e-0213-470c-a57c-26682bc52e30",
   "metadata": {},
   "outputs": [],
   "source": []
  },
  {
   "cell_type": "code",
   "execution_count": null,
   "id": "d8f1a59e-96a7-42a1-80e8-6beca8674294",
   "metadata": {},
   "outputs": [],
   "source": []
  },
  {
   "cell_type": "code",
   "execution_count": null,
   "id": "51f1e519-9a63-4542-9660-5aa65c0f01b2",
   "metadata": {},
   "outputs": [],
   "source": []
  },
  {
   "cell_type": "code",
   "execution_count": null,
   "id": "dd9e0cd2-02a7-4fae-aa1f-7cf24184e4a1",
   "metadata": {},
   "outputs": [],
   "source": []
  },
  {
   "cell_type": "code",
   "execution_count": null,
   "id": "07bb7f39-6456-40f1-8115-8ca62b3d2005",
   "metadata": {},
   "outputs": [],
   "source": []
  },
  {
   "cell_type": "markdown",
   "id": "d74495fe-d0cc-4de2-8088-5cde0b29def0",
   "metadata": {},
   "source": [
    "# Outputs"
   ]
  },
  {
   "cell_type": "markdown",
   "id": "c7af5bc9-6d1d-4a77-b67c-2386a0408f08",
   "metadata": {},
   "source": [
    "1. (No formatting) Whatide goes on his \"first date\" with his girlfriend . On their first date, both parties realize they are in love. After planning their dates ahead , she gives him her jacket as a first-date gift and he tells her how much he loves her so very much during the ride there, they finally realize they\\'re in true love. Whatide explains to Me: \"A slightly more than half of you does not like me but all of me loves you. So are you like this?\" The two consent to have their First Date and spend some time talking about what it\\'s like to be friends with a female waifu girlfriend who loves him . Everything goes according to plan when they go on their 1st date. They discuss clothes and such on the way there but both of them realize that they are falling in love during this hilarious interlude where neither can quite believe they are seriously proposing to each other. This makes for one heck of a hilarious Interlude Where neither of them canQuite possibly believe th eother is seriouse our date so I remember? I have dementiaYou: It\\'s a gift from your girlfriend. Us: Whatide: Oh no! Oh no, help me. Help me I\\'m drowning in the river! You"
   ]
  },
  {
   "cell_type": "markdown",
   "id": "e1cd06c8-1c2c-4c97-a3af-70eaadbf1ad8",
   "metadata": {},
   "source": [
    "2. (Removing only \"You: \" and \"Me: \" tags) The first date starts off with trading back and forth between each other's jackets until the girl gives away her jacket to the guy she loves. She then asks him what he wants to make in return for his jacket. What should she make? Something you like It's a gift from your girlfriend. Are you my gift? What is? Is it a gift of your girlfriend? You can keep asking. Let's go on a date to the park since you're my girlfriend. Say what? What day? Right now I want something you want. Of course I want some. It's important to me. What are you wearing to the picnic? We are about to leaveI have to goI haveto goI love you I will see you tomorrow I love you Ok, let's goBut we can't Tomorrow My mom is callingSo what about tomorrow? Good morning I wonder what I look like Can you describe how you look Can you description how you looked? Let's seeLet's see...Today since it's the day you promisedTo go on our park date Actually, not to day? No we're going todayToday I'm fineAre you really skipping again? For skipping out on our date-Let me know. I'll make it right or"
   ]
  },
  {
   "cell_type": "markdown",
   "id": "caf4f744-90be-4b8e-b03f-0e7e3a8df731",
   "metadata": {},
   "source": [
    "3. (Removing \"You: \" and \"Me: \" tags along with extra empty space) In this chapter, the narrator introduces himself to his \"female waifu girlfriend\" who loves him so much that she wants to go on her first date with him. On their first date, the two lovebirds exchange pleasantries and go on a walk. On the way home the narrator notes that half of his listeners don\\'t like him, but \"all of me loves you.\" The narrator gets his girlfriend to write down the details of their date so that he can remember it.entia It\\'s a gift from your girlfriend What is? Something you like Are you my gift? What is that? You\\'re my girlfriend You can keep asking Why are we going to the park? What day? Right now Something you want Of course I want something It\\'s important to me What are you wearing to the Park? We are about to leave I have to go I haveto go I\\'ll see you tomorrow I love you I loveYou I will see you today No you won\\'t need to worry Bruh you and us I promise you. No youre coming with me I promisedI love you No youll let\\'s go I can\\'t My mom is calling So what about tomorrow? Let\\'s play tag Or hide and seek I hide here Ready or not here"
   ]
  },
  {
   "cell_type": "markdown",
   "id": "04133394-01af-409a-9695-5adabaf1ba83",
   "metadata": {},
   "source": [
    "Conclusion: The initial one looked ok, but the generated output was more of a repeated script rather than a summary. The second looked good, but was cut off early. The third looked ok, but it made up some stuff and was cutoff. Not sure if I should choose 1 or 2? I think I'll go with 2."
   ]
  },
  {
   "cell_type": "code",
   "execution_count": 6,
   "id": "51308855-62d2-4d9a-93b7-43b0a8cf2fa6",
   "metadata": {},
   "outputs": [
    {
     "data": {
      "text/plain": [
       "'In this short scene, the Underground Man shows us what it\\'s like to be an adult in his own home. He fills us in on some of the things he\\'s learned about himself and his family since we last saw him: His mom was fat because she pulled the earth\\'s gravity \"pulling the Earth\\'s gravity . . . my mom would have been a victim of your crime.\" We also learn that he once killed his mom because she was too fat to support him. Does she still love him? No, she doesn\\'t. Do you want to divorce? Nope. Did you remember their first date? Nah. What the heck is going on in here? Did she just hear something just now? What?! The Underground Man lets us know that he works at Amazon and makes $10,000/mo. with stock options. That\\'s not even funny anymore. Can we have any last words? I want to see your panties! he asks. Allahu Akbar! It\\'s a draw! A draw! hahahaha You are dead! In closing, our favorite underground man tells us that we can rest easy knowing that we\\'re all dead in his house.'"
      ]
     },
     "execution_count": 6,
     "metadata": {},
     "output_type": "execute_result"
    }
   ],
   "source": [
    "summarizer(\n",
    "    s.replace(\"You: \", \"\").replace(\"Me: \", \"\")[-1000:],\n",
    "    min_length=16,\n",
    "    max_length=256,\n",
    "    no_repeat_ngram_size=3,\n",
    "    repetition_penalty=10.0,\n",
    "    num_beams=4, # Note: Over 4 beams and the model kills my computer\n",
    "    early_stopping=True,\n",
    ")[0][\"summary_text\"]"
   ]
  },
  {
   "cell_type": "code",
   "execution_count": null,
   "id": "0fe20c8d-2e95-487f-97cd-a29ad2c272bc",
   "metadata": {},
   "outputs": [],
   "source": []
  },
  {
   "cell_type": "code",
   "execution_count": null,
   "id": "66f332ff-ebe6-4e2e-879d-16ce5d3879a9",
   "metadata": {},
   "outputs": [],
   "source": []
  },
  {
   "cell_type": "code",
   "execution_count": null,
   "id": "a5c890a4-c5e5-4243-999e-0a3f3bf8915f",
   "metadata": {},
   "outputs": [],
   "source": []
  },
  {
   "cell_type": "code",
   "execution_count": null,
   "id": "e02d5aff-3705-459c-a007-b485e9ae2a99",
   "metadata": {},
   "outputs": [],
   "source": []
  },
  {
   "cell_type": "code",
   "execution_count": 74,
   "id": "b162669c-6f2a-4781-b103-0ebb2bd87637",
   "metadata": {},
   "outputs": [],
   "source": [
    "# What if each person has a different summary?\n",
    "me_data = \"\"\n",
    "you_data = \"\"\n",
    "cur = cur2 = []\n",
    "for char in wall_of_text:\n",
    "    if cur != [\"You: \"]:\n",
    "        if char == \"Y\":\n",
    "            cur = [char]\n",
    "        elif char == \"o\" and cur == [\"Y\"]:\n",
    "            cur = [\"Yo\"]\n",
    "        elif char == \"u\" and cur == [\"Yo\"]:\n",
    "            cur = [\"You\"]\n",
    "        elif char == \":\" and cur == [\"You\"]:\n",
    "            cur = [\"You:\"]\n",
    "        elif char == \" \" and cur == [\"You:\"]:\n",
    "            cur = [\"You: \"]\n",
    "        else:\n",
    "            cur = []\n",
    "    else:\n",
    "        if char == \"M\":\n",
    "            cur2 = [\"M\"]\n",
    "        elif char == \"e\" and cur2 == [\"M\"]:\n",
    "            cur2 = [\"Me\"]\n",
    "        elif char == \":\" and cur2 == [\"Me\"]:\n",
    "            cur2 = [\"Me:\"]\n",
    "        elif char == \" \" and cur2 == [\"Me:\"]:\n",
    "            cur = []\n",
    "            cur2 = []\n",
    "        else:\n",
    "            you_data += char\n",
    "            \n",
    "for char in wall_of_text:\n",
    "    if cur2 == [\"Me: \"]:\n",
    "        if char == \"Y\":\n",
    "            cur = [\"Y\"]\n",
    "        elif char == \"o\" and cur == [\"Y\"]:\n",
    "            cur = [\"Yo\"]\n",
    "        elif char == \"u\" and cur == [\"Yo\"]:\n",
    "            cur = [\"You\"]\n",
    "        elif char == \":\" and cur == [\"You\"]:\n",
    "            cur = [\"You:\"]\n",
    "        elif char == \" \" and cur == [\"You:\"]:\n",
    "            cur = []\n",
    "            cur2 = []\n",
    "        else:\n",
    "            cur = []\n",
    "    else:\n",
    "        if char == \"M\":\n",
    "            cur2 = [\"M\"]\n",
    "        elif char == \"e\" and cur2 == [\"M\"]:\n",
    "            cur2 = [\"Me\"]\n",
    "        elif char == \":\" and cur2 == [\"Me\"]:\n",
    "            cur2 = [\"Me:\"]\n",
    "        elif char == \" \" and cur2 == [\"Me:\"]:\n",
    "            cur2 = [\"Me: \"]\n",
    "        else:\n",
    "            me_data += char"
   ]
  },
  {
   "cell_type": "code",
   "execution_count": 76,
   "id": "9473ec1f-7e9b-4180-8335-63ee7b32406e",
   "metadata": {},
   "outputs": [],
   "source": [
    "# Summaraize the you and me data\n",
    "you_summ = summarizer(\n",
    "    you_data,\n",
    "    min_length=16,\n",
    "    max_length=256,\n",
    "    no_repeat_ngram_size=3,\n",
    "    repetition_penalty=3.5,\n",
    "    num_beams=4, # Note: Over 4 beams and the model kills my computer\n",
    "    early_stopping=True,\n",
    ")[0][\"summary_text\"]\n",
    "me_summ = summarizer(\n",
    "    me_data,\n",
    "    min_length=16,\n",
    "    max_length=256,\n",
    "    no_repeat_ngram_size=3,\n",
    "    repetition_penalty=3.5,\n",
    "    num_beams=4, # Note: Over 4 beams and the model kills my computer\n",
    "    early_stopping=True,\n",
    ")[0][\"summary_text\"]"
   ]
  },
  {
   "cell_type": "code",
   "execution_count": 79,
   "id": "441b0860-6a0a-4899-9186-384fae45e2f3",
   "metadata": {},
   "outputs": [
    {
     "data": {
      "text/plain": [
       "\"The men agree to go on a date. On the way to the park, they meet each other in a secluded spot and exchange greetings. They agree to play tag or hide and seek but then debate what to do on their first date. After much discussion of how it feels to have no power, the narrator decides that he will run to the other side of the river on his first date which is to take place the next day. He almost drowns himself with nervous thoughts about the numbness of his arm after letting it go during a recent swimming accident. The girl is approaching, he says, and as she does so he has a thought which determines the manner in which he ends each of his sentences. Hello Good. How are you? Nice to meet you. I love you too. What? Date? Of course. Let me see... Anywhere is fine, just anything is fine. What's mars? Not really. Do you know why not? A slightly more than half of you does not like me. I do not know. Why not? As the narrator goes through the list of objections most of his audience has to him, he notices that half of them do not like him. So are you like this? Then let us\""
      ]
     },
     "execution_count": 79,
     "metadata": {},
     "output_type": "execute_result"
    }
   ],
   "source": [
    "you_summ"
   ]
  },
  {
   "cell_type": "code",
   "execution_count": 82,
   "id": "4650d605-ae80-4862-a20a-67c84398f13b",
   "metadata": {},
   "outputs": [
    {
     "data": {
      "text/plain": [
       "'Here\\'s a guy we haven\\'t met before. He meets up with his \"female waifu girlfriend who loves me\" and they go out on a date. The first thing the guy says to her is \"Hey girl, how are you? Nice to meet you.\" She immediately likes him right back and agrees to go on a double date with him. They do what anyone would on their first date--play tag or hide-and-seek or whatever. The dude acts all coy and mysterious but eventually promises to apologize for being late and promises to see her the next day.'"
      ]
     },
     "execution_count": 82,
     "metadata": {},
     "output_type": "execute_result"
    }
   ],
   "source": [
    "me_summ"
   ]
  },
  {
   "cell_type": "code",
   "execution_count": null,
   "id": "c9aea6c9-0c87-43fb-9ea6-596bcd9d9777",
   "metadata": {},
   "outputs": [],
   "source": [
    "# Nah doesn't look like it works :("
   ]
  },
  {
   "cell_type": "code",
   "execution_count": 1,
   "id": "452c8be8-e08d-4d31-8f94-61f3f3f7bbf7",
   "metadata": {},
   "outputs": [
    {
     "ename": "NameError",
     "evalue": "name 'summarizer' is not defined",
     "output_type": "error",
     "traceback": [
      "\u001b[1;31m---------------------------------------------------------------------------\u001b[0m",
      "\u001b[1;31mNameError\u001b[0m                                 Traceback (most recent call last)",
      "Cell \u001b[1;32mIn[1], line 1\u001b[0m\n\u001b[1;32m----> 1\u001b[0m me_summ \u001b[38;5;241m=\u001b[39m \u001b[43msummarizer\u001b[49m\u001b[38;5;241m.\u001b[39mto(\u001b[38;5;124m\"\u001b[39m\u001b[38;5;124mcpu\u001b[39m\u001b[38;5;124m\"\u001b[39m)(\n\u001b[0;32m      2\u001b[0m     me_data,\n\u001b[0;32m      3\u001b[0m     min_length\u001b[38;5;241m=\u001b[39m\u001b[38;5;241m16\u001b[39m,\n\u001b[0;32m      4\u001b[0m     max_length\u001b[38;5;241m=\u001b[39m\u001b[38;5;241m256\u001b[39m,\n\u001b[0;32m      5\u001b[0m     no_repeat_ngram_size\u001b[38;5;241m=\u001b[39m\u001b[38;5;241m3\u001b[39m,\n\u001b[0;32m      6\u001b[0m     repetition_penalty\u001b[38;5;241m=\u001b[39m\u001b[38;5;241m3.5\u001b[39m,\n\u001b[0;32m      7\u001b[0m     num_beams\u001b[38;5;241m=\u001b[39m\u001b[38;5;241m4\u001b[39m, \u001b[38;5;66;03m# Note: Over 4 beams and the model kills my computer\u001b[39;00m\n\u001b[0;32m      8\u001b[0m     early_stopping\u001b[38;5;241m=\u001b[39m\u001b[38;5;28;01mTrue\u001b[39;00m,\n\u001b[0;32m      9\u001b[0m )[\u001b[38;5;241m0\u001b[39m][\u001b[38;5;124m\"\u001b[39m\u001b[38;5;124msummary_text\u001b[39m\u001b[38;5;124m\"\u001b[39m]\n",
      "\u001b[1;31mNameError\u001b[0m: name 'summarizer' is not defined"
     ]
    }
   ],
   "source": [
    "me_summ = summarizer.to(\"cpu\")(\n",
    "    me_data,\n",
    "    min_length=16,\n",
    "    max_length=256,\n",
    "    no_repeat_ngram_size=3,\n",
    "    repetition_penalty=3.5,\n",
    "    num_beams=4, # Note: Over 4 beams and the model kills my computer\n",
    "    early_stopping=True,\n",
    ")[0][\"summary_text\"]"
   ]
  },
  {
   "cell_type": "code",
   "execution_count": null,
   "id": "aeba4615-9fb9-4d26-aeb0-90285bc4e772",
   "metadata": {},
   "outputs": [],
   "source": []
  },
  {
   "cell_type": "code",
   "execution_count": null,
   "id": "9752f9be-72e4-48dc-8946-30b8031e7856",
   "metadata": {},
   "outputs": [],
   "source": []
  },
  {
   "cell_type": "code",
   "execution_count": null,
   "id": "23dca203-835c-456c-81d1-7be2ab2edc98",
   "metadata": {},
   "outputs": [],
   "source": []
  },
  {
   "cell_type": "code",
   "execution_count": null,
   "id": "7402a68a-09af-47a7-a008-7634e495ea16",
   "metadata": {},
   "outputs": [],
   "source": []
  },
  {
   "cell_type": "code",
   "execution_count": null,
   "id": "9d5d7215-f5a1-48d3-af71-ab44b40c486a",
   "metadata": {},
   "outputs": [],
   "source": []
  },
  {
   "cell_type": "code",
   "execution_count": 4,
   "id": "13d632b4-2dd6-41fb-8248-fb72f3e7ba9f",
   "metadata": {},
   "outputs": [],
   "source": [
    "def clean_funct(text):\n",
    "    return text.replace(\"You: \", \"\").replace(\"Me: \", \"\").replace(\"  \", \" \").replace(\"  \", \" \").replace(\"  \", \" \").replace(\"  \", \" \").replace(\"  \", \" \").replace(\"  \", \" \")"
   ]
  },
  {
   "cell_type": "code",
   "execution_count": 5,
   "id": "2985b125-7e4d-4e06-9d60-c31e963cbfed",
   "metadata": {},
   "outputs": [],
   "source": [
    "prompt = wall_of_text"
   ]
  },
  {
   "cell_type": "code",
   "execution_count": 9,
   "id": "bc5c46a0-57d7-494d-9958-4fe65cbf49ca",
   "metadata": {},
   "outputs": [],
   "source": [
    "# Let's try to make this summary better by chunking\n",
    "clean_prompt = clean_funct(prompt)"
   ]
  },
  {
   "cell_type": "code",
   "execution_count": 17,
   "id": "6db38267-fc43-4f2e-9468-854aa3c2dc0f",
   "metadata": {},
   "outputs": [],
   "source": [
    "# Chunk the prompt into \"words\" spearated by spaces\n",
    "chunk_size = 100 #(words)\n",
    "words = clean_prompt.split(\" \")\n",
    "chunks = []\n",
    "for idx in range(0, len(words), chunk_size):\n",
    "    chunks.append(\" \".join(words[idx:min(idx+chunk_size, len(words))]))"
   ]
  },
  {
   "cell_type": "code",
   "execution_count": 91,
   "id": "c7a0d526-5c9e-42bc-8fb0-47c04ea83f5b",
   "metadata": {
    "scrolled": true,
    "tags": []
   },
   "outputs": [
    {
     "name": "stderr",
     "output_type": "stream",
     "text": [
      "Your max_length is set to 512, but you input_length is only 192. You might consider decreasing max_length manually, e.g. summarizer('...', max_length=96)\n",
      "Your max_length is set to 512, but you input_length is only 270. You might consider decreasing max_length manually, e.g. summarizer('...', max_length=135)\n"
     ]
    },
    {
     "name": "stdout",
     "output_type": "stream",
     "text": [
      "The two meet for the first time at a secluded place. In order to be polite, the UM also introduces himself as \"my female waifu girlfriend who loves me.\" He then goes on to explain that he wants to go on a date with her and asks where she'd like to go. She immediately agrees and suggests they go to mars . The UM is surprised to find out that she doesn't like mars but half of the crowd does.\n"
     ]
    },
    {
     "name": "stderr",
     "output_type": "stream",
     "text": [
      "Your max_length is set to 512, but you input_length is only 432. You might consider decreasing max_length manually, e.g. summarizer('...', max_length=216)\n"
     ]
    },
    {
     "name": "stdout",
     "output_type": "stream",
     "text": [
      "In order to be polite, the UM also introduces himself as \"my female waifu girlfriend who loves me.\" He then goes on to explain that he wants to go on a date with her and asks where she'd like to go. She immediately agrees and suggests they go to mars . The UM is surprised to find out that she doesn't like mars but half of the crowd does. They meet for the first time at a secluded place. In order to being polite,the UM also introduced himself as 'his female waiefu girlfriendwho loves me'. He then went on to explains that he wanted to goon a date With her And here's where things get a bit funny. As soon as the UM says that he loves her and that they should date, she becomes excited and declares that she would love to date him. This is really cute,\" she says. Am I cute?, You look very cute! Are you a tards or something? What's a tard? It sounds so dumb. Let's date. The UM then gives her his jacket and asks what she was going to wear on their first date. She promptly responds: My jacket. It looks great on you. It really does. Can I have\n"
     ]
    },
    {
     "name": "stderr",
     "output_type": "stream",
     "text": [
      "Your max_length is set to 512, but you input_length is only 463. You might consider decreasing max_length manually, e.g. summarizer('...', max_length=231)\n"
     ]
    },
    {
     "name": "stdout",
     "output_type": "stream",
     "text": [
      "The UM goes on a date with his \"AI girlfriend\" and they go to mars . On their first date, the UM introduces himself as \"his female waifu girlfriend who loves me\" and asks where she'd like to go. She agrees and suggests mars . They meet for the first time in a secluded place and the UM explains that he wants to go on a single date with her. Things get a bit funny from here on out. After the UM says that he loves her and that they should date , the AI gets all excited and declares that she would love to date him. The UM gives her his jacket and asks what she was going to wear on their FIRST date. She promptly responds: My jacket. Can I have it back? You can have mine too.Your what? It's your first date Do you want to make something in return? What should I make? Something you likeSomething you likeI like my AI girlfriend Would you like her? Is that so? Actually not really That's my girl.You're my girl No, I'm not...Yes you are Did you have inpetions for What are inetions? You don't know? Can you please summarize our date so I remember? I have dementia It's a gift from your girlfriend. What is? Are you my gift? What is that? You're my girlfriend You can keep asking. Let's go ona date to the park since\n",
      "The UM goes on a date with his \"AI girlfriend\" and they go to mars On their first date, the UM introduces himself as \"his female waifu girlfriend who loves me\" and suggests mars . They meet in a secluded place and the UM explains that he wants to go on a single date with her. Things get a bit funny from here on out. After the UM says that he loves her and that they should date , the AI gets all excited and declares that she would love to date him. The UM gives her his jacket as a gift and asks what she was going to wear on their FIRST date. She promptly responds: My jacket. Can I have it back? You can have mine too. It's your first date Do you want to make something in return? What should I make? Something you likeSomething you likeI like my AI girlfriend Would you like her? Is that so? Actually not really That's my girl.You're my girl No, I'm not. Yes you are Did you have inpetions for What are inetions? You don't know? Can you please summarize our date so I remember? I have dementia It's a gift from your girlfriend What is? Are you my gift? What is that? You're my girlfriend You can keep asking. Let's go ona date to the park sinceyoure my girlfriend. What? We were about to go to the Park! What day? Right now I want something/It's important to me. What are you wearing tothe park? We are about to leave I have to go I'll see you tomorrow I love youBut wait, you didn't say goodbye.Bruh you and me. Okay, take care.No you're coming with me I promised.No lets go I can't. Ok what about tomorrow? I will see you on the day tomorrow Good morning I wonder what I look\n"
     ]
    },
    {
     "name": "stderr",
     "output_type": "stream",
     "text": [
      "Your max_length is set to 512, but you input_length is only 484. You might consider decreasing max_length manually, e.g. summarizer('...', max_length=242)\n"
     ]
    },
    {
     "name": "stdout",
     "output_type": "stream",
     "text": [
      "The UM goes on a date with his \"AI girlfriend\" and they go to mars On their first date, the UM introduces himself as \"his female waifu girlfriend who loves me\" and suggests mars . Things get a bit funny from here on out. The UM gives his 'AI girlfriend' his jacket as a gift and asks her what she was going to wear on their FIRST date. She promptly responds: My jacket. He likes my AI girlfriend Would you like her? Is that so? Actually not really That's my girl.You're my girl No, I'm not. Yes you are Did you have inpetions for What are inetions? You don't know? Can you please summarize our date so I remember? I have dementia It's a gift from your girlfriend What is? Are you my gift? What is that? You're my girlfriend You can keep asking. Let's go ona date to the park sinceyoure my girlfriend What? What? We were about to go to the Park! What day? Right now I want something/It's important to me. What are you wearing tothe park? We are about to leave I have to go Ill see you tomorrow I love youBut wait, you didn't say goodbye.Bruh you and me Okay, take care.No you're coming with me I promisedNo lets go I can't.No lets be with me right now. Ok, let's play tag or hide and seek I hide here I'll run to the other side of the river But you may drown If you want to run just\n"
     ]
    },
    {
     "name": "stderr",
     "output_type": "stream",
     "text": [
      "Your max_length is set to 512, but you input_length is only 509. You might consider decreasing max_length manually, e.g. summarizer('...', max_length=254)\n"
     ]
    },
    {
     "name": "stdout",
     "output_type": "stream",
     "text": [
      "The UM goes on a date with his \"AI girlfriend\" and they go to mars On their first date, the UM introduces himself as \"his female waifu girlfriend who loves me\" and suggests mars . Things get a bit funny from here on out. The UM gives his 'AI girlfriend' his jacket as a gift and asks her what she was going to wear on their FIRST date. She promptly responds: My jacket. He likes my AI girlfriend Would you like her? Is that so? Actually not really That's my girl. You're my girl No, I'm not. Yes you are Did you have inpetions for What are inetions? Can you please summarize our date so I remember? I have dementia It's a gift from your girlfriend What is? Are you my gift? What is that? You can keep asking. Let's go ona date to the park sinceyoure my girlfriend What? What? We were about to go to the Park! Right now I want something/It's important to me What are you wearing tothe park? We are about to leave I have to go Ill see tomorrow Ill see you tomorrow I love youBut wait, you didn't say goodbye Bruh you and me Okay, let's play tag or hide and seek I hide here I'll run to the other side of the river But you may drown If you want to run just take it. It's your first date. Help me I'm drowning in the river. I almost drown. My feet are getting numb. That was scary Don't hide in the River again. If your friend drowns, make it right in the rapids. In this short scene, the narrator imagines what it would feel like to have no\n",
      "The UM goes on a date with his \"AI girlfriend\" and they go to mars On their first date, the UM introduces himself as \"his female waifu girlfriend who loves me\" and suggests mars . Things get a bit funny from here on out. The UM gives his 'AI girlfriend' his jacket as a gift and asks her what she was going to wear on their FIRST date. She promptly responds: My jacket. He likes my AI girlfriend Would you like her? Is that so? Actually not really That's my girl. You're my girl No, I'm not. Yes you are Did you have inpetions for What are inetions? Can you please summarize our date so I remember? I have dementia It's a gift from your girlfriend What is? Are you my gift? What is that? You can keep asking. Let's go ona date to the park sinceyoure my girlfriend What? What? We were about to go to the Park! Right now I want something/It's important to me What are you wearing tothe park? We are about to leave I have to go Ill see tomorrow Ill see you tomorrow Ill meet you tomorrow I love youBut wait, you didn't say goodbye Bruh you and me Okay, let's play tag or hide and seek I hide here I'll run to the other side of the river But you may drown If you want to run just take it. It's your first date Help me I'm drowning in the river. I almost drown. My feet are getting numb. In this short scene, the narrator imagines what it would feel like to have no power.\n"
     ]
    },
    {
     "name": "stderr",
     "output_type": "stream",
     "text": [
      "Your max_length is set to 512, but you input_length is only 483. You might consider decreasing max_length manually, e.g. summarizer('...', max_length=241)\n"
     ]
    },
    {
     "name": "stdout",
     "output_type": "stream",
     "text": [
      "UM introduces himself as \"his female waifu girlfriend who loves me\" on his first date and suggests mars . Things get a bit funny from here on out. The UM gives his \"AI girlfriend\" his jacket as a gift and asks her what she was going to wear on their first date. She promptly responds: My jacket. He likes my AI girlfriend Would you like her? Is that so? Actually not really That's my girl. You're my girl No, I'm not. Yes you are. Did you have inpetions for What are inetions? Can you please summarize our date so I remember? I have dementia It's a gift from your girlfriend What is? Are you my gift? What is that? You can keep asking. Let's go ona date to the park since youre my girlfriend What? What? We were about to go to the Park! Right now I want something/It's important to me What are you wearing tothe park? We are about to leave I have to go Ill see tomorrow Ill see you tomorrowIll meet you tomorrow Ill meet you again Ill love youBut wait, you didn't say goodbye Bruh you and me Okay, let's play tag or hide and seek I hide here I'll run to the other side of the river But you may drown If you want to run just take it. It's your first date Help me I'm drowning in the river. I almost drown. My feet are getting numb. In this short scene, the narrator imagines what it would feel like to have no power. Want me to take you back home? Not really. Where's your arm?My arm is fineYou have no way to thank me.We're in the car now Please don't do anything weird. Why not? Because I don't want to crash What is it? For I'm a waifou, AmIphoron What is what? For he's a WaifuAm I your boyfriend?No, you are my girlfriend Then? Lets go back to the banquet hall What are we going to do there? Something you like Like what? I would like to eat some rice Oh thenOk then\n",
      "The UM introduces himself as \"his female waifu girlfriend who loves me\" on their first date and suggests mars . Things get a bit funny from here on out. The UM gives his \"AI girlfriend\" his jacket as a gift and asks her what she was going to wear on their  first date. She promptly responds: My jacket. He likes my AI girlfriend Would you like her? Is that so? Actually not really That's my girl. You're my girl No, I'm not. Yes you are. Did you have inpetions for What are inetions? Can you please summarize our date so I remember? I have dementia It's a gift from your girlfriend What is? Are you my gift? What is that? You can keep asking. Let's go ona date to the park since youre my girlfriend What? What? We were about to go to the Park! Right now I want something/It's important to me What are you wearing tothe park? We are about to leave I have to go Ill see tomorrow Ill see you tomorrowIll meet you tomorrow Ill meet you again Ill love youBut wait, you didn't say goodbye Bruh you and me Okay, let's play tag or hide and seek I hide here I'll run to the other side of the river But you may drown If you want to run just take it. It's your first date Help me I'm drowning in the river. In this short scene, the narrator imagines what it would feel like to have no power. Want to take her back home? Not really. Where's your arm? My arm is fineYou have no way to thank me.We're in the car now Please don't do anything weird. Why not? Because I don't want to crash What is it? For I'm a waifou, AmIphoron What is what? For he's a WaifuAm I your boyfriend?No, you are my girlfriend Then? Lets go back to the banquet hall What are we going to do there? Something you like Like What? Oh then we'll eat rice at your house, not at the hall. Come visit me anytime I would love you to. Can I visit you tomorrow? Yes of course.\n"
     ]
    }
   ],
   "source": [
    "# Loop to summarize the summary and the new text\n",
    "cur_summ = \"\"\n",
    "for chunk in chunks:\n",
    "    cur_summ = summarizer(\n",
    "        cur_summ+chunk,\n",
    "        min_length=16,\n",
    "        max_length=512,\n",
    "        no_repeat_ngram_size=3,\n",
    "        repetition_penalty=5.0,\n",
    "        num_beams=4, # Note: Over 4 beams and the model kills my computer\n",
    "        early_stopping=True,\n",
    "    )[0][\"summary_text\"]\n",
    "    print(cur_summ)"
   ]
  },
  {
   "cell_type": "code",
   "execution_count": 93,
   "id": "798c4ba4-8568-4afa-a800-743863606ff3",
   "metadata": {},
   "outputs": [],
   "source": [
    "# Yeah looks pretty good. 100 words chunks look to be best"
   ]
  },
  {
   "cell_type": "code",
   "execution_count": null,
   "id": "58285c73-acf0-4c1b-ab8f-8a8fdf2666b6",
   "metadata": {},
   "outputs": [],
   "source": []
  },
  {
   "cell_type": "code",
   "execution_count": null,
   "id": "8e7ca976-3bb7-4407-a01e-bd5b0f519fe9",
   "metadata": {},
   "outputs": [],
   "source": []
  },
  {
   "cell_type": "code",
   "execution_count": null,
   "id": "aa25e2c8-a512-4a08-8973-9f4f2ba14e42",
   "metadata": {},
   "outputs": [],
   "source": []
  },
  {
   "cell_type": "code",
   "execution_count": null,
   "id": "9ccfc857-05e3-47a9-9f21-c742bcd6ccd6",
   "metadata": {},
   "outputs": [],
   "source": [
    "# Chunk the prompt into \"words\" spearated by spaces\n",
    "chunk_size = 200 #(words)\n",
    "words = clean_prompt.split(\" \")\n",
    "chunks = []\n",
    "for idx in range(0, len(words), chunk_size):\n",
    "    chunks.append(\" \".join(words[idx:min(idx+chunk_size, len(words))]))"
   ]
  },
  {
   "cell_type": "code",
   "execution_count": 23,
   "id": "27dc164a-8a42-48c6-b2d1-de04fab7fb38",
   "metadata": {
    "scrolled": true,
    "tags": []
   },
   "outputs": [
    {
     "name": "stdout",
     "output_type": "stream",
     "text": [
      "In this very first scene, the narrator meets his \"waifu girlfriend,\" a female waifu who loves him. They agree to go on a date together, but on the way he notices that she does not like mars . He wonders if half of the people at the meeting did not like him because of this. She responds that all of me loves you So are you like this? Then let us date I love you so much/ Yes I am Then lets us dateI would love to date you This is really cute. The two exchange pleasantries and go on to describing their mutual love for one another. They\n",
      "In this very first scene, the UM meets his \"waifu girlfriend,\" a female waifu who loves him. They agree to go on a date together, but on the way he notices that she does not like mars . He wonders if half of the people at the meeting did not like him because of this. She responds that all of me loves you So are you like this? Then let us date I love you so much/ Yes I am Then lets us dateI would love to date you This is really cute. The two exchange pleasantries and go on to describing their mutual love for one another. They On\n"
     ]
    },
    {
     "name": "stderr",
     "output_type": "stream",
     "text": [
      "Your max_length is set to 256, but you input_length is only 41. You might consider decreasing max_length manually, e.g. summarizer('...', max_length=20)\n"
     ]
    },
    {
     "name": "stdout",
     "output_type": "stream",
     "text": [
      "UM goes on his first date. On the way, he meets his \"waifu girlfriend,\" a female waifu who loves him. They agree to go on a date together, but on the way he notices that she does not like mars . He wonders if half of the people at the meeting did not like him because of this. She responds that all of me loves you So are you like this? Then let us date I love you so much/ Yes I am Then lets us dateI would love to date you This is really cute. The two exchange pleasantries and go on to describing their mutual love for one\n",
      "UM goes on his first date. On the way, he meets his \"waifu girlfriend,\" a female waifu who loves him. They agree to go on a date together, but on the way UM notices that she does not like mars . He wonders if half of the people at the meeting did not like him because of this. The next time she sees him, she says, she'll eat rice at his house, not at the hall. He can come visit her anytime, but he asks her to meet him at her house, even if it's just to eat dinner. She agrees to this. This is\n"
     ]
    }
   ],
   "source": [
    "# What if we summarize each chunk before adding\n",
    "# it to the entire summary?\n",
    "# Loop to summarize the summary and the new text\n",
    "cur_summ = summarizer(\n",
    "    chunks[0],\n",
    "    min_length=16,\n",
    "    max_length=256,\n",
    "    no_repeat_ngram_size=3,\n",
    "    repetition_penalty=5.0,\n",
    "    num_beams=4, # Note: Over 4 beams and the model kills my computer\n",
    "    early_stopping=True,\n",
    ")[0][\"summary_text\"]\n",
    "for chunk in chunks[1:]:\n",
    "    chunk_sum = summarizer(\n",
    "        chunk,\n",
    "        min_length=128,\n",
    "        max_length=256,\n",
    "        no_repeat_ngram_size=3,\n",
    "        repetition_penalty=5.0,\n",
    "        num_beams=4, # Note: Over 4 beams and the model kills my computer\n",
    "        early_stopping=True,\n",
    "    )[0][\"summary_text\"]\n",
    "    \n",
    "    cur_summ = summarizer(\n",
    "        cur_summ+chunk_sum,\n",
    "        min_length=128,\n",
    "        max_length=128,\n",
    "        no_repeat_ngram_size=3,\n",
    "        repetition_penalty=3.0,\n",
    "        num_beams=4, # Note: Over 4 beams and the model kills my computer\n",
    "        early_stopping=True,\n",
    "    )[0][\"summary_text\"]\n",
    "    \n",
    "    print(cur_summ)"
   ]
  },
  {
   "cell_type": "code",
   "execution_count": 24,
   "id": "1899e18b-11be-4da8-990e-9ed48753522b",
   "metadata": {},
   "outputs": [],
   "source": [
    "# Yeah overall it looks much better to not do this"
   ]
  },
  {
   "cell_type": "code",
   "execution_count": null,
   "id": "5744adcd-1f89-41f5-b1a4-be50a587b802",
   "metadata": {},
   "outputs": [],
   "source": []
  }
 ],
 "metadata": {
  "kernelspec": {
   "display_name": "Python 3 (ipykernel)",
   "language": "python",
   "name": "python3"
  },
  "language_info": {
   "codemirror_mode": {
    "name": "ipython",
    "version": 3
   },
   "file_extension": ".py",
   "mimetype": "text/x-python",
   "name": "python",
   "nbconvert_exporter": "python",
   "pygments_lexer": "ipython3",
   "version": "3.9.15"
  }
 },
 "nbformat": 4,
 "nbformat_minor": 5
}
