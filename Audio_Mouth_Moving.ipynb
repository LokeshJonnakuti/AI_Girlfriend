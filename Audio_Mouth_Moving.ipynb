{
 "cells": [
  {
   "cell_type": "code",
   "execution_count": 1,
   "id": "2da341f7-d227-4226-a415-74f4c79cec2c",
   "metadata": {},
   "outputs": [],
   "source": [
    "from vosk import Model, KaldiRecognizer, SetLogLevel\n",
    "from pydub import AudioSegment\n",
    "import wave\n",
    "import json"
   ]
  },
  {
   "cell_type": "code",
   "execution_count": 2,
   "id": "856dd384-8932-49aa-b6aa-943a81c89d0d",
   "metadata": {},
   "outputs": [],
   "source": [
    "# Load in the model\n",
    "model_path = \"vosk_models/vosk-model-small-en-us-0.15\"\n",
    "model = Model(model_path)"
   ]
  },
  {
   "cell_type": "code",
   "execution_count": 3,
   "id": "074e358d-4dad-46a0-ae98-9d30c993a22f",
   "metadata": {},
   "outputs": [
    {
     "data": {
      "text/plain": [
       "<_io.BufferedRandom name='tmp.wav'>"
      ]
     },
     "execution_count": 3,
     "metadata": {},
     "output_type": "execute_result"
    }
   ],
   "source": [
    "# Make the audio a wav file\n",
    "f = AudioSegment.from_mp3(\"tmp.mp3\")\n",
    "f.export(\"tmp.wav\", format=\"wav\")"
   ]
  },
  {
   "cell_type": "code",
   "execution_count": 4,
   "id": "ba59aded-d437-4de4-b01c-a2fe5542362e",
   "metadata": {},
   "outputs": [],
   "source": [
    "# Read in the audio\n",
    "with wave.open(\"tmp.wav\", \"rb\") as wf:\n",
    "    # Prepare the model for rekognition\n",
    "    rec = KaldiRecognizer(model, wf.getframerate())\n",
    "    rec.SetWords(True)\n",
    "    \n",
    "    # get the list of JSON dictionaries\n",
    "    results = []\n",
    "    # recognize speech using vosk model\n",
    "    data = wf.readframes(wf.getnframes())\n",
    "    while len(data) > 0:\n",
    "        if rec.AcceptWaveform(data):\n",
    "            part_result = json.loads(rec.Result())\n",
    "            results.append(part_result)\n",
    "        data = wf.readframes(wf.getnframes())\n",
    "    part_result = json.loads(rec.FinalResult())\n",
    "    results.append(part_result)"
   ]
  },
  {
   "cell_type": "code",
   "execution_count": 5,
   "id": "a4024d12-4eaa-4bfd-925b-dae102c6e8be",
   "metadata": {},
   "outputs": [
    {
     "data": {
      "text/plain": [
       "[{'result': [{'conf': 1.0, 'end': 0.18, 'start': 0.06, 'word': 'i'},\n",
       "   {'conf': 1.0, 'end': 0.45, 'start': 0.18, 'word': 'want'},\n",
       "   {'conf': 1.0, 'end': 0.51, 'start': 0.45, 'word': 'to'},\n",
       "   {'conf': 1.0, 'end': 0.78, 'start': 0.51, 'word': 'meet'},\n",
       "   {'conf': 1.0, 'end': 0.96, 'start': 0.78, 'word': 'you'},\n",
       "   {'conf': 1.0, 'end': 1.11, 'start': 0.96, 'word': 'and'},\n",
       "   {'conf': 1.0, 'end': 1.32, 'start': 1.11, 'word': 'see'},\n",
       "   {'conf': 1.0, 'end': 1.5, 'start': 1.32, 'word': 'what'},\n",
       "   {'conf': 0.733281, 'end': 1.68, 'start': 1.5, 'word': \"you're\"},\n",
       "   {'conf': 1.0, 'end': 2.1, 'start': 1.68, 'word': 'like'},\n",
       "   {'conf': 1.0, 'end': 2.67, 'start': 2.52, 'word': 'i'},\n",
       "   {'conf': 1.0, 'end': 2.91, 'start': 2.67, 'word': 'want'},\n",
       "   {'conf': 1.0, 'end': 3.0, 'start': 2.91, 'word': 'to'},\n",
       "   {'conf': 1.0, 'end': 3.18, 'start': 3.0, 'word': 'know'},\n",
       "   {'conf': 1.0, 'end': 3.36, 'start': 3.18, 'word': 'you'},\n",
       "   {'conf': 1.0, 'end': 3.84, 'start': 3.36, 'word': 'better'}],\n",
       "  'text': \"i want to meet you and see what you're like i want to know you better\"}]"
      ]
     },
     "execution_count": 5,
     "metadata": {},
     "output_type": "execute_result"
    }
   ],
   "source": [
    "results"
   ]
  },
  {
   "cell_type": "code",
   "execution_count": 6,
   "id": "1998986b-18ca-4b06-bd48-7a5c2e43f20d",
   "metadata": {},
   "outputs": [],
   "source": [
    "audio_trans = results[0][\"result\"]"
   ]
  },
  {
   "cell_type": "code",
   "execution_count": 7,
   "id": "c12c8a72-e6ff-4036-88ea-27f120bcf7cf",
   "metadata": {},
   "outputs": [
    {
     "data": {
      "text/plain": [
       "[{'conf': 1.0, 'end': 0.18, 'start': 0.06, 'word': 'i'},\n",
       " {'conf': 1.0, 'end': 0.45, 'start': 0.18, 'word': 'want'},\n",
       " {'conf': 1.0, 'end': 0.51, 'start': 0.45, 'word': 'to'},\n",
       " {'conf': 1.0, 'end': 0.78, 'start': 0.51, 'word': 'meet'},\n",
       " {'conf': 1.0, 'end': 0.96, 'start': 0.78, 'word': 'you'},\n",
       " {'conf': 1.0, 'end': 1.11, 'start': 0.96, 'word': 'and'},\n",
       " {'conf': 1.0, 'end': 1.32, 'start': 1.11, 'word': 'see'},\n",
       " {'conf': 1.0, 'end': 1.5, 'start': 1.32, 'word': 'what'},\n",
       " {'conf': 0.733281, 'end': 1.68, 'start': 1.5, 'word': \"you're\"},\n",
       " {'conf': 1.0, 'end': 2.1, 'start': 1.68, 'word': 'like'},\n",
       " {'conf': 1.0, 'end': 2.67, 'start': 2.52, 'word': 'i'},\n",
       " {'conf': 1.0, 'end': 2.91, 'start': 2.67, 'word': 'want'},\n",
       " {'conf': 1.0, 'end': 3.0, 'start': 2.91, 'word': 'to'},\n",
       " {'conf': 1.0, 'end': 3.18, 'start': 3.0, 'word': 'know'},\n",
       " {'conf': 1.0, 'end': 3.36, 'start': 3.18, 'word': 'you'},\n",
       " {'conf': 1.0, 'end': 3.84, 'start': 3.36, 'word': 'better'}]"
      ]
     },
     "execution_count": 7,
     "metadata": {},
     "output_type": "execute_result"
    }
   ],
   "source": [
    "audio_trans"
   ]
  },
  {
   "cell_type": "code",
   "execution_count": 8,
   "id": "b48418cb-b02d-4adb-a316-d47837aec6c8",
   "metadata": {},
   "outputs": [],
   "source": [
    "# Get the delay between each word\n",
    "for i in range(1, len(audio_trans)):\n",
    "    audio_trans[i][\"delay\"] = audio_trans[i][\"start\"]-audio_trans[i-1][\"end\"]\n",
    "audio_trans[0][\"delay\"] = audio_trans[0][\"start\"]"
   ]
  },
  {
   "cell_type": "code",
   "execution_count": 9,
   "id": "774aec42-ba7f-4e5b-bd16-c861795a5bd3",
   "metadata": {},
   "outputs": [
    {
     "data": {
      "text/plain": [
       "[{'conf': 1.0, 'end': 0.18, 'start': 0.06, 'word': 'i', 'delay': 0.06},\n",
       " {'conf': 1.0, 'end': 0.45, 'start': 0.18, 'word': 'want', 'delay': 0.0},\n",
       " {'conf': 1.0, 'end': 0.51, 'start': 0.45, 'word': 'to', 'delay': 0.0},\n",
       " {'conf': 1.0, 'end': 0.78, 'start': 0.51, 'word': 'meet', 'delay': 0.0},\n",
       " {'conf': 1.0, 'end': 0.96, 'start': 0.78, 'word': 'you', 'delay': 0.0},\n",
       " {'conf': 1.0, 'end': 1.11, 'start': 0.96, 'word': 'and', 'delay': 0.0},\n",
       " {'conf': 1.0, 'end': 1.32, 'start': 1.11, 'word': 'see', 'delay': 0.0},\n",
       " {'conf': 1.0, 'end': 1.5, 'start': 1.32, 'word': 'what', 'delay': 0.0},\n",
       " {'conf': 0.733281, 'end': 1.68, 'start': 1.5, 'word': \"you're\", 'delay': 0.0},\n",
       " {'conf': 1.0, 'end': 2.1, 'start': 1.68, 'word': 'like', 'delay': 0.0},\n",
       " {'conf': 1.0,\n",
       "  'end': 2.67,\n",
       "  'start': 2.52,\n",
       "  'word': 'i',\n",
       "  'delay': 0.41999999999999993},\n",
       " {'conf': 1.0, 'end': 2.91, 'start': 2.67, 'word': 'want', 'delay': 0.0},\n",
       " {'conf': 1.0, 'end': 3.0, 'start': 2.91, 'word': 'to', 'delay': 0.0},\n",
       " {'conf': 1.0, 'end': 3.18, 'start': 3.0, 'word': 'know', 'delay': 0.0},\n",
       " {'conf': 1.0, 'end': 3.36, 'start': 3.18, 'word': 'you', 'delay': 0.0},\n",
       " {'conf': 1.0, 'end': 3.84, 'start': 3.36, 'word': 'better', 'delay': 0.0}]"
      ]
     },
     "execution_count": 9,
     "metadata": {},
     "output_type": "execute_result"
    }
   ],
   "source": [
    "audio_trans"
   ]
  },
  {
   "cell_type": "code",
   "execution_count": null,
   "id": "78800edb-4772-4b1d-9f3f-a1684fd1c12e",
   "metadata": {},
   "outputs": [],
   "source": []
  },
  {
   "cell_type": "code",
   "execution_count": null,
   "id": "8a36acdf-10cd-41f6-bbe1-de50b3a3ff64",
   "metadata": {},
   "outputs": [],
   "source": []
  },
  {
   "cell_type": "code",
   "execution_count": null,
   "id": "ebcd520d-b175-4dcb-a821-534ed7c6cab0",
   "metadata": {},
   "outputs": [],
   "source": []
  },
  {
   "cell_type": "code",
   "execution_count": 1,
   "id": "48e59cde-1464-43ad-b8a1-de8129bf5266",
   "metadata": {},
   "outputs": [
    {
     "name": "stdout",
     "output_type": "stream",
     "text": [
      "pygame 2.1.2 (SDL 2.0.18, Python 3.9.15)\n",
      "Hello from the pygame community. https://www.pygame.org/contribute.html\n"
     ]
    }
   ],
   "source": [
    "# Now we want to open the mouth when a word starts and close it when the word ends.\n",
    "# This can probably be done discretely for each part of the audio\n",
    "from vosk import Model, KaldiRecognizer, SetLogLevel\n",
    "from pydub import AudioSegment\n",
    "import wave\n",
    "import json\n",
    "from Talking_Head.Talking_Head import Talking_Head\n",
    "from putting_it_together import blink_loop\n",
    "%matplotlib inline\n",
    "import torch\n",
    "from PIL import Image\n",
    "import matplotlib.pyplot as plt\n",
    "import multiprocess\n",
    "import gradio as gr\n",
    "import time\n",
    "import numpy as np\n",
    "from copy import deepcopy\n",
    "import asyncio\n",
    "import threading\n",
    "import pygame\n",
    "from pygame import mixer"
   ]
  },
  {
   "cell_type": "code",
   "execution_count": 2,
   "id": "32832377-f197-4640-9687-deabf3829426",
   "metadata": {},
   "outputs": [],
   "source": [
    "device = torch.device(\"cuda:0\")"
   ]
  },
  {
   "cell_type": "code",
   "execution_count": 3,
   "id": "e5b4069f-bc58-4840-b9d6-206ef24a1a94",
   "metadata": {},
   "outputs": [],
   "source": [
    "# Load in the image\n",
    "# img = Image.open(\"test.png\")\n",
    "img = Image.open(\"Talking_Head/data/illust/waifu_00.png\")"
   ]
  },
  {
   "cell_type": "code",
   "execution_count": null,
   "id": "6d464835-2d1d-49fa-9c55-e4b904e7e678",
   "metadata": {},
   "outputs": [],
   "source": []
  },
  {
   "cell_type": "code",
   "execution_count": null,
   "id": "4ca7a1c4-2e58-4bee-b841-e016a6070433",
   "metadata": {},
   "outputs": [],
   "source": []
  },
  {
   "cell_type": "code",
   "execution_count": null,
   "id": "089d79c1-3504-4429-bfc5-03cac3e394df",
   "metadata": {},
   "outputs": [],
   "source": []
  },
  {
   "cell_type": "code",
   "execution_count": 4,
   "id": "be529895-f95f-44af-8b9a-8ac207a15cf3",
   "metadata": {},
   "outputs": [],
   "source": [
    "# To have both mouth movements and blinking work, we essentially\n",
    "# need two async tasks that share the style vector. The blink\n",
    "# loop can run continuouly and we don't have to worry about it. The\n",
    "# mouth movement loop will change depening on the audio and\n",
    "# is what will be the main focus. The blink loop can just\n",
    "# run indefinitly"
   ]
  },
  {
   "cell_type": "code",
   "execution_count": 5,
   "id": "be592f8a-f652-4ee4-8bbe-aa684d28a0c7",
   "metadata": {},
   "outputs": [
    {
     "data": {
      "image/png": "[encoded data removed]",
      "text/plain": [
       "<PIL.Image.Image image mode=RGB size=256x256>"
      ]
     },
     "execution_count": 5,
     "metadata": {},
     "output_type": "execute_result"
    }
   ],
   "source": [
    "# Let's make a global Talking Head class to store the global vector\n",
    "global img_anim\n",
    "img_anim = Talking_Head(torch.device(\"cuda:0\"), 0.6, automatic_EMA=True)\n",
    "\n",
    "# Load in the new image\n",
    "img_anim.load_new_image(img=deepcopy(img))\n",
    "\n",
    "# Default pose for the image\n",
    "img_anim.change_pose()"
   ]
  },
  {
   "cell_type": "code",
   "execution_count": 6,
   "id": "11c05c4d-4437-4fa3-b320-6a730fe7adca",
   "metadata": {},
   "outputs": [],
   "source": [
    "# Function to extract the word data from a mp3 file\n",
    "def extract_word_data(filename):\n",
    "    # Load in the model\n",
    "    model_path = \"vosk_models/vosk-model-small-en-us-0.15\"\n",
    "    model = Model(model_path)\n",
    "    \n",
    "    # Make the audio a wav file\n",
    "    f = AudioSegment.from_mp3(\"tmp.mp3\")\n",
    "    f.export(\"tmp.wav\", format=\"wav\")\n",
    "    \n",
    "    # Read in the audio\n",
    "    with wave.open(\"tmp.wav\", \"rb\") as wf:\n",
    "        # Prepare the model for rekognition\n",
    "        rec = KaldiRecognizer(model, wf.getframerate())\n",
    "        rec.SetWords(True)\n",
    "\n",
    "        # get the list of JSON dictionaries\n",
    "        results = []\n",
    "        # recognize speech using vosk model\n",
    "        data = wf.readframes(wf.getnframes())\n",
    "        while len(data) > 0:\n",
    "            if rec.AcceptWaveform(data):\n",
    "                part_result = json.loads(rec.Result())\n",
    "                results.append(part_result)\n",
    "            data = wf.readframes(wf.getnframes())\n",
    "        part_result = json.loads(rec.FinalResult())\n",
    "        results.append(part_result)\n",
    "    \n",
    "    audio_trans = results[0][\"result\"]\n",
    "    \n",
    "    # Get the delay between each word\n",
    "    for i in range(1, len(audio_trans)):\n",
    "        audio_trans[i][\"delay\"] = audio_trans[i][\"start\"]-audio_trans[i-1][\"end\"]\n",
    "    audio_trans[0][\"delay\"] = audio_trans[0][\"start\"]\n",
    "    \n",
    "    return audio_trans"
   ]
  },
  {
   "cell_type": "code",
   "execution_count": 7,
   "id": "f754f662-49d3-4fd9-a206-9ddebda5925a",
   "metadata": {},
   "outputs": [],
   "source": [
    "# Literally all this function does is update the\n",
    "# eye part of the vector every so often\n",
    "global DONE\n",
    "DONE = False\n",
    "async def blink_loop():\n",
    "    global img_anim\n",
    "    \n",
    "    # We want to iterate forever\n",
    "    while not DONE:\n",
    "        # Wait a little to blink again\n",
    "        if img_anim.eye_cycle_end:\n",
    "            # Blink anywhere between 2 and 7 secods with\n",
    "            # a mean around 5 seconds (avg blink wait time)\n",
    "            t = np.clip(np.random.normal(5, 1, size=1)[0], 2, 7)\n",
    "\n",
    "            # Wait a little before blinking again\n",
    "            time.sleep(t)\n",
    "            img_anim.eye_cycle_end = False\n",
    "        \n",
    "        # Update the vector\n",
    "        img_anim.Move_eyes()\n",
    "        \n",
    "        # Wait for a new frame to be generated\n",
    "        while img_anim.eye_frame_disp == False:\n",
    "            time.sleep(0.001)\n",
    "\n",
    "# Used to make a thread running the blink loop\n",
    "def run_blink_loop():\n",
    "    loop = asyncio.new_event_loop()\n",
    "    asyncio.set_event_loop(loop)\n",
    "\n",
    "    loop.run_until_complete(blink_loop())\n",
    "    loop.close()"
   ]
  },
  {
   "cell_type": "code",
   "execution_count": 8,
   "id": "39e9b2a9-7492-413b-b66d-50edb52bfa36",
   "metadata": {},
   "outputs": [],
   "source": [
    "async def talk_loop(filename):\n",
    "    global img_anim\n",
    "    global generating_mouth_movement\n",
    "    \n",
    "    # Get the audio transcript\n",
    "    audio_trans = extract_word_data(filename)\n",
    "    \n",
    "    # Play the audio\n",
    "    mixer.init()\n",
    "    mixer.stop()\n",
    "    mixer.music.unload()\n",
    "    try:\n",
    "        mixer.music.load('tmp.mp3')\n",
    "        mixer.music.play()\n",
    "    except pygame.error:\n",
    "        s = mixer.Sound('tmp.mp3')\n",
    "        s.play()\n",
    "    \n",
    "    # Iterate over all parts of the audio transcription\n",
    "    generating_mouth_movement = True\n",
    "    for part in audio_trans:\n",
    "        # Get the beginning and end of the audio piece\n",
    "        start = part[\"start\"]\n",
    "        end = part[\"end\"]\n",
    "        delay = part[\"delay\"]\n",
    "        \n",
    "        # Wait for the next audio part according to the\n",
    "        # delay in teh audio\n",
    "        time.sleep(delay)\n",
    "        \n",
    "        # Get the entire audio clip length\n",
    "        length = end-start\n",
    "        \n",
    "        # Setup the mouth movement cycle\n",
    "        img_anim.setup_mouth_movement(length)\n",
    "        \n",
    "        # Iterate until the movement is done for this part\n",
    "        while img_anim.mouth_cycle_end == False:\n",
    "            # Update the vector\n",
    "            img_anim.Move_mouth()\n",
    "            \n",
    "            # Wait for a new frame to be generated\n",
    "            while img_anim.mouth_frame_disp == False:\n",
    "                time.sleep(0.001)\n",
    "                \n",
    "    generating_mouth_movement = False\n",
    "            \n",
    "#             # Change the pose and show the image\n",
    "#             img = img_anim.change_pose()\n",
    "            \n",
    "#             # End EMA timer and update EMA\n",
    "#             if timer_s != -1:\n",
    "#                 img_anim.update_EMA(time.time()-timer_s)\n",
    "            \n",
    "#             # Start timer for EMA\n",
    "#             timer_s = time.time()\n",
    "            \n",
    "#             yield img\n",
    "    \n",
    "    \n",
    "# Used to make a thread running the talk loop\n",
    "def run_talk_loop(filename):\n",
    "    loop = asyncio.new_event_loop()\n",
    "    asyncio.set_event_loop(loop)\n",
    "\n",
    "    loop.run_until_complete(talk_loop(filename))\n",
    "    loop.close()"
   ]
  },
  {
   "cell_type": "code",
   "execution_count": 9,
   "id": "7914376f-e417-4441-a0a8-df864549b864",
   "metadata": {},
   "outputs": [],
   "source": [
    "global generating_mouth_movement\n",
    "\n",
    "def main():\n",
    "    global img_anim\n",
    "    global generating_mouth_movement\n",
    "    \n",
    "    # Quick calibration. Blink 10 times\n",
    "    # and calibrate the time it takes\n",
    "    # to show the image for the EMA\n",
    "    for i in range(0, 10):\n",
    "        s = time.time()\n",
    "        img_anim.eye_cycle_end = False\n",
    "        while img_anim.eye_cycle_end == False:\n",
    "            img_anim.Move_eyes()\n",
    "            img = img_anim.change_pose()\n",
    "            img_anim.update_EMA(time.time()-s)\n",
    "            s = time.time()\n",
    "            yield img\n",
    "    img_anim.eye_cycle_end = False\n",
    "    \n",
    "    # Start the blink loop\n",
    "    b_thread = threading.Thread(target=run_blink_loop, args=())\n",
    "    b_thread.start()\n",
    "    \n",
    "    # Start the mouth movement loop\n",
    "    generating_mouth_movement = True\n",
    "    m_thread = threading.Thread(target=run_talk_loop, args=(\"tmp.mp3\",))\n",
    "    m_thread.start()\n",
    "    \n",
    "    while True:\n",
    "        # Wait until a new frame needs to be generated\n",
    "        if generating_mouth_movement == True:\n",
    "            if img_anim.mouth_frame_disp == False:\n",
    "                # Change the pose and show the image\n",
    "                img = img_anim.change_pose()\n",
    "\n",
    "                yield img\n",
    "        else:\n",
    "            # Start the mouth movement loop\n",
    "            # m_thread = threading.Thread(target=run_talk_loop, args=(\"tmp.mp3\",))\n",
    "            # m_thread.start()\n",
    "            # generating_mouth_movement = True\n",
    "            if img_anim.eye_frame_disp == False:\n",
    "                # Change the pose and show the image\n",
    "                img = img_anim.change_pose()\n",
    "\n",
    "                yield img\n",
    "        \n",
    "        time.sleep(0.0001)\n",
    "    \n",
    "    global DONE\n",
    "    DONE = True\n",
    "    b_thread.join()\n",
    "    m_thread.join()\n",
    "    \n",
    "#     m_thread = threading.Thread(target=run_mouth_loop, args=())\n",
    "#     m_thread.start()\n",
    "    \n",
    "#     while True:\n",
    "#         # If the mouth loop ended, reset it\n",
    "#         if img_anim.mouth_cycle_end == True:\n",
    "#             m_thread.join()\n",
    "#             img_anim.setup_mouth_movement(1)\n",
    "            \n",
    "#             m_thread = threading.Thread(target=run_mouth_loop, args=())\n",
    "#             m_thread.start()\n",
    "        \n",
    "#         # Change the pose and show the image\n",
    "#         img = img_anim.change_pose()\n",
    "#         yield img"
   ]
  },
  {
   "cell_type": "code",
   "execution_count": 10,
   "id": "0cb6890a-1a03-4b0b-9d47-7e1b9a5f0a43",
   "metadata": {},
   "outputs": [
    {
     "name": "stdout",
     "output_type": "stream",
     "text": [
      "Running on local URL:  http://127.0.0.1:7861\n",
      "\n",
      "To create a public link, set `share=True` in `launch()`.\n"
     ]
    },
    {
     "data": {
      "text/html": [
       "<div><iframe src=\"http://127.0.0.1:7861/\" width=\"100%\" height=\"500\" allow=\"autoplay; camera; microphone; clipboard-read; clipboard-write;\" frameborder=\"0\" allowfullscreen></iframe></div>"
      ],
      "text/plain": [
       "<IPython.core.display.HTML object>"
      ]
     },
     "metadata": {},
     "output_type": "display_data"
    },
    {
     "data": {
      "text/plain": []
     },
     "execution_count": 10,
     "metadata": {},
     "output_type": "execute_result"
    }
   ],
   "source": [
    "io = gr.Interface(main, inputs=[], outputs=[gr.Image().style(height=330)])\n",
    "io.queue().launch()"
   ]
  },
  {
   "cell_type": "code",
   "execution_count": null,
   "id": "179005a8-d18c-44b5-b54f-c00d446096d2",
   "metadata": {},
   "outputs": [],
   "source": []
  }
 ],
 "metadata": {
  "kernelspec": {
   "display_name": "Python 3 (ipykernel)",
   "language": "python",
   "name": "python3"
  },
  "language_info": {
   "codemirror_mode": {
    "name": "ipython",
    "version": 3
   },
   "file_extension": ".py",
   "mimetype": "text/x-python",
   "name": "python",
   "nbconvert_exporter": "python",
   "pygments_lexer": "ipython3",
   "version": "3.9.15"
  }
 },
 "nbformat": 4,
 "nbformat_minor": 5
}
